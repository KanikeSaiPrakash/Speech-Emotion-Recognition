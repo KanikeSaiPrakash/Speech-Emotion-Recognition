{
  "nbformat": 4,
  "nbformat_minor": 0,
  "metadata": {
    "colab": {
      "name": "audio_to_mfcc.ipynb",
      "provenance": [],
      "collapsed_sections": []
    },
    "kernelspec": {
      "name": "python3",
      "display_name": "Python 3"
    },
    "language_info": {
      "name": "python"
    }
  },
  "cells": [
    {
      "cell_type": "markdown",
      "metadata": {
        "id": "OBphzDE7vS-o"
      },
      "source": [
        "## MFCC\n",
        "\n",
        "- In this notebook, converting the audio files into mfcc by using librosa module."
      ]
    },
    {
      "cell_type": "code",
      "metadata": {
        "id": "9xc08z42vOMq"
      },
      "source": [
        "# import modules\n",
        "\n",
        "import time\n",
        "import os\n",
        "import joblib\n",
        "import librosa\n",
        "from librosa import display\n",
        "import random\n",
        "import numpy as np "
      ],
      "execution_count": null,
      "outputs": []
    },
    {
      "cell_type": "code",
      "metadata": {
        "id": "W8siCSag2vmZ"
      },
      "source": [
        "path = 'audio_ data_path'    # folder where splitted audio emotions to emotional folders  exist in the audio to emotional folders.ipynb notebook \n",
        "lst = []\n",
        "\n",
        "start_time = time.time()\n",
        "\n",
        "for subdir, dirs, files in os.walk(path):\n",
        "    for file in files:\n",
        "        try:\n",
        "            #Load librosa array, obtain mfcss, store the file and the mcss information in a new array\n",
        "            X, sample_rate = librosa.load(os.path.join(subdir,file), res_type='kaiser_fast')\n",
        "            mfccs = np.mean(librosa.feature.mfcc(y=X, sr=sample_rate, n_mfcc=40).T,axis=0) \n",
        "            # The instruction below converts the labels (from 1 to 8) to a series from 0 to 7\n",
        "            # This is because our predictor needs to start from 0 otherwise it will try to predict also 0.\n",
        "            file = int(file[7:8]) - 1 \n",
        "            arr = mfccs, file\n",
        "            lst.append(arr)\n",
        "            # If the file is not valid, skip it\n",
        "        except ValueError:\n",
        "            continue\n",
        "\n",
        "print(\"--- Data loaded. Loading time: %s seconds ---\" % (time.time() - start_time))"
      ],
      "execution_count": null,
      "outputs": []
    },
    {
      "cell_type": "code",
      "metadata": {
        "id": "_YYT1FR9vQVj"
      },
      "source": [
        "len(lst)   # length will justify the number of audio files considered."
      ],
      "execution_count": null,
      "outputs": []
    },
    {
      "cell_type": "code",
      "metadata": {
        "id": "6U9AUKRj7ZSk"
      },
      "source": [
        "# Creating X and y: zip makes a list of all the first elements, and a list of all the second elements.\n",
        "X, y = zip(*lst)\n",
        "import numpy as np\n",
        "X = np.asarray(X)\n",
        "y = np.asarray(y)\n",
        "X.shape, y.shape"
      ],
      "execution_count": null,
      "outputs": []
    },
    {
      "cell_type": "code",
      "metadata": {
        "id": "a1NlH9vfwidh"
      },
      "source": [
        "# Saving joblib files which helps in not to convert the audio files to mfcc features again and again in future \n",
        "# just by loading this files will be sufficient.\n",
        "\n",
        "X_name = 'X_mfcc.joblib'\n",
        "y_name = 'y_mfcc.joblib'\n",
        "save_dir = '----------joblibs_path----------------'\n",
        "\n",
        "savedX = joblib.dump(X, os.path.join(save_dir, X_name))\n",
        "savedy = joblib.dump(y, os.path.join(save_dir, y_name))"
      ],
      "execution_count": null,
      "outputs": []
    },
    {
      "cell_type": "code",
      "metadata": {
        "id": "s542CozwxTLq"
      },
      "source": [
        "# Loading saved models for further use \n",
        "X = joblib.load(save_dir + '/X_mfcc.joblib')\n",
        "y = joblib.load(save_dir+ '/y_mfcc.joblib')"
      ],
      "execution_count": null,
      "outputs": []
    }
  ]
}