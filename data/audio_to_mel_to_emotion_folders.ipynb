{
  "nbformat": 4,
  "nbformat_minor": 0,
  "metadata": {
    "colab": {
      "name": "audio_to_mel_to_emotion_folders.ipynb",
      "provenance": [],
      "collapsed_sections": []
    },
    "kernelspec": {
      "name": "python3",
      "display_name": "Python 3"
    },
    "language_info": {
      "name": "python"
    }
  },
  "cells": [
    {
      "cell_type": "markdown",
      "metadata": {
        "id": "BckJ14xayfJo"
      },
      "source": [
        "## Mel- spectrogram:\n",
        "\n",
        "- In this notebook, converting the audio file to the mel-spectrogram and splitting them to the emotion folders."
      ]
    },
    {
      "cell_type": "code",
      "metadata": {
        "id": "XUkO8Co9yWxL"
      },
      "source": [
        "# import modules\n",
        "import librosa\n",
        "from librosa import display\n",
        "import os\n",
        "import shutil\n",
        "import matplotlib.pyplot as plt"
      ],
      "execution_count": null,
      "outputs": []
    },
    {
      "cell_type": "code",
      "metadata": {
        "id": "2TYslzBQy5Oq"
      },
      "source": [
        "path = \" -----------audio path------- ---\"\n",
        "folder_path = \"------------create a path to save mel spectrogram images---------------\""
      ],
      "execution_count": null,
      "outputs": []
    },
    {
      "cell_type": "code",
      "metadata": {
        "id": "N6Wgs3E5flRJ"
      },
      "source": [
        "class Spectrograms_to_emotion_folders:\n",
        "\n",
        "  @staticmethod\n",
        "  def create_folders(path, folder_path):\n",
        "    \n",
        "\n",
        "    label_conversion = {'01': 'neutral',\n",
        "                            '02': 'happy',\n",
        "                            '03': 'sad',\n",
        "                            '04': 'angry',\n",
        "                            '05': 'fear',\n",
        "                            '06': 'disgust'}\n",
        "        \n",
        "    for emotion_number, emotions in label_conversion.items():      # creating folders as the name convention given in the label_conversion dictinary above \n",
        "        new_folder = emotions\n",
        "        new_folder_path = folder_path + new_folder + '/'\n",
        "        os.mkdir(new_folder_path)                                     # create folders in the name of emotions, if folder are already exist then it will do nothing \n",
        "    \n",
        "    for subdir, dirs, files in os.walk(path):\n",
        "        for filenames in files:\n",
        "            print(filenames)\n",
        "            x, sr = librosa.load (subdir+'/'+filenames, sr=22050)           # loading audio file using librosa module \n",
        "            S = librosa.feature.melspectrogram(x, sr=sr, n_mels=128)                 # converting audio file to mel-spectrogram \n",
        "            log_S = librosa.power_to_db(S, ref=np.max)\n",
        "            librosa.display.specshow(log_S, sr=sr, x_axis='time', y_axis='mel')\n",
        "            fig1 = plt.gcf()\n",
        "            plt.axis('off')\n",
        "            for emotion_number, emotions in label_conversion.items():\n",
        "                if(filenames[6:8] == emotion_number):\n",
        "                    image_fname = filenames.split('.')[0] + '.png'\n",
        "                    fig1.savefig(folder_path + emotions + '/' + image_fname, dpi=100)   # saving figure to the folder according to the emotion of audiofile\n",
        "\n",
        "        \n",
        "\n",
        "if __name__ == '__main__':\n",
        "    Spectrograms_to_emotion_folders.create_folders(path, folder_path)\n"
      ],
      "execution_count": null,
      "outputs": []
    }
  ]
}