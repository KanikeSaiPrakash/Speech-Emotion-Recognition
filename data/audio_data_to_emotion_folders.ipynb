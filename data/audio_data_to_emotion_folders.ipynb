{
  "nbformat": 4,
  "nbformat_minor": 0,
  "metadata": {
    "colab": {
      "name": "audio_data_to_emotion_folders.ipynb",
      "provenance": [],
      "collapsed_sections": []
    },
    "kernelspec": {
      "name": "python3",
      "display_name": "Python 3"
    },
    "language_info": {
      "name": "python"
    }
  },
  "cells": [
    {
      "cell_type": "markdown",
      "metadata": {
        "id": "XYCvMF7Frqre"
      },
      "source": [
        "## To emotion Folders:\n",
        "\n",
        "- In this notebook , we are seperating the entire audio files according to their emotions"
      ]
    },
    {
      "cell_type": "code",
      "metadata": {
        "id": "Vv9Nmzd3sYoh"
      },
      "source": [
        "# import modules\n",
        "\n",
        "import os\n",
        "import shutil"
      ],
      "execution_count": null,
      "outputs": []
    },
    {
      "cell_type": "code",
      "metadata": {
        "id": "Z0TWX8olqyxI"
      },
      "source": [
        "path = '-----audio path-------'  # it is the training files path in the filenames_to_ravdess.ipynb \n",
        "folder_path = '------destination path------------'"
      ],
      "execution_count": null,
      "outputs": []
    },
    {
      "cell_type": "code",
      "metadata": {
        "id": "U8gvFvwhflRI"
      },
      "source": [
        "class Audio_to_emotion_folders:\n",
        "\n",
        "  @staticmethod\n",
        "  def create_folders(path, folder_path):\n",
        "    \n",
        "\n",
        "    label_conversion = {'01': 'neutral',\n",
        "                            '02': 'happy',\n",
        "                            '03': 'sad',\n",
        "                            '04': 'angry',\n",
        "                            '05': 'fear',\n",
        "                            '06': 'disgust'}\n",
        "        \n",
        "    for emotion_number, emotions in label_conversion.items():         # Here it is creating folders according to the emotions in label_conversion dictionary above.\n",
        "        new_folder = emotions\n",
        "        new_folder_path = folder_path + new_folder + '/'\n",
        "        os.mkdir(new_folder_path)                                      # If the emotions are already exist then it will ignore, otherwise it will create the new one \n",
        "    \n",
        "    for subdir, dirs, files in os.walk(path):\n",
        "        for filenames in files:\n",
        "            for emotion_number, emotions in label_conversion.items():\n",
        "                if(filenames[6:8] == emotion_number):\n",
        "                    destination_path = folder_path + emotions +'/'\n",
        "                    old_file_path = os.path.join(os.path.abspath(subdir), filenames)\n",
        "                    new_file_path = destination_path + filenames\n",
        "                    shutil.copy(old_file_path, new_file_path)               # copying files to the emotional folders according to its emotions \n",
        "\n",
        "        \n",
        "\n",
        "if __name__ == '__main__':\n",
        "    Audio_to_emotion_folders.create_folders(path, folder_path)\n",
        "\n"
      ],
      "execution_count": null,
      "outputs": []
    }
  ]
}