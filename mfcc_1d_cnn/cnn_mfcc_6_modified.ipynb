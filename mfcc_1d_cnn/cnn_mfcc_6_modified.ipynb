{
 "cells": [
  {
   "cell_type": "code",
   "execution_count": 1,
   "metadata": {
    "id": "Q28J_NWsCxZW"
   },
   "outputs": [],
   "source": [
    "import librosa\n",
    "from librosa import display\n",
    "import os\n",
    "import shutil\n",
    "import random\n",
    "import numpy as np \n",
    "import keras\n",
    "import numpy as np\n",
    "import matplotlib.pyplot as plt\n",
    "import tensorflow as tf\n",
    "from keras.preprocessing import sequence\n",
    "from keras.models import Sequential\n",
    "from keras.layers import Dense, Embedding, BatchNormalization\n",
    "from keras.utils import to_categorical\n",
    "from keras.layers import Input, Flatten, Dropout, Activation\n",
    "from keras.layers import Conv1D, MaxPooling1D\n",
    "from keras.models import Model\n",
    "from keras.callbacks import ModelCheckpoint\n",
    "from keras.utils import plot_model"
   ]
  },
  {
   "cell_type": "code",
   "execution_count": null,
   "metadata": {
    "id": "LrzKWDM-639O"
   },
   "outputs": [],
   "source": [
    "TRAINING_FILES_PATH = 'specs_6_RTSC/'\n",
    "TESS_ORIGINAL_FOLDER_PATH = 'Tess'"
   ]
  },
  {
   "cell_type": "code",
   "execution_count": null,
   "metadata": {
    "id": "M8BahQGoCA9E"
   },
   "outputs": [],
   "source": [
    "class TESSPipeline:\n",
    "\n",
    "    @staticmethod\n",
    "    def create_tess_folders(path):\n",
    "       \n",
    "        counter = 0\n",
    "\n",
    "        label_conversion = {'01': 'neutral',\n",
    "                            '02': 'happy',\n",
    "                            '03': 'sad',\n",
    "                            '04': 'angry',\n",
    "                            '05': 'fear',\n",
    "                            '06': 'disgust'}\n",
    "\n",
    "        for subdir, dirs, files in os.walk(path):\n",
    "            for filename in files:\n",
    "                if filename.startswith('OAF'):\n",
    "                    destination_path = TRAINING_FILES_PATH + 'Actor_26/'\n",
    "                    old_file_path = os.path.join(os.path.abspath(subdir), filename)\n",
    "\n",
    "                    # Separate base from extension\n",
    "                    base, extension = os.path.splitext(filename)\n",
    "\n",
    "                    for key, value in label_conversion.items():\n",
    "                        if base.endswith(value):\n",
    "                            random_list = random.sample(range(10, 99), 7)\n",
    "                            file_name = '-'.join([str(i) for i in random_list])\n",
    "                            file_name_with_correct_emotion = file_name[:6] + key + file_name[8:] + extension\n",
    "                            new_file_path = destination_path + file_name_with_correct_emotion\n",
    "                            shutil.copy(old_file_path, new_file_path)\n",
    "\n",
    "                else:\n",
    "                    destination_path = TRAINING_FILES_PATH + 'Actor_25/'\n",
    "                    old_file_path = os.path.join(os.path.abspath(subdir), filename)\n",
    "\n",
    "                    # Separate base from extension\n",
    "                    base, extension = os.path.splitext(filename)\n",
    "\n",
    "                    for key, value in label_conversion.items():\n",
    "                        if base.endswith(value):\n",
    "                            random_list = random.sample(range(10, 99), 7)\n",
    "                            file_name = '-'.join([str(i) for i in random_list])\n",
    "                            file_name_with_correct_emotion = (file_name[:6] + key + file_name[8:] + extension).strip()\n",
    "                            new_file_path = destination_path + file_name_with_correct_emotion\n",
    "                            shutil.copy(old_file_path, new_file_path)\n",
    "\n",
    "\n",
    "if __name__ == '__main__':\n",
    "    TESSPipeline.create_tess_folders(TESS_ORIGINAL_FOLDER_PATH)"
   ]
  },
  {
   "cell_type": "code",
   "execution_count": null,
   "metadata": {
    "id": "hQTHElytxn_7"
   },
   "outputs": [],
   "source": [
    "Savee_training_path = 'RTSC_mod_6/'\n",
    "Savee_original_data_path = 'Savee'"
   ]
  },
  {
   "cell_type": "code",
   "execution_count": null,
   "metadata": {
    "id": "9GeuhpFRyThZ"
   },
   "outputs": [],
   "source": [
    "class SaveePipeline:\n",
    "\n",
    "    @staticmethod\n",
    "    def create_savee_folder(path):\n",
    "       \n",
    "        counter = 0\n",
    "\n",
    "        label_conversion = {'01': 'n',\n",
    "                            '02': 'h',\n",
    "                            '03': 'sa',\n",
    "                            '04': 'a',\n",
    "                            '05': 'f',\n",
    "                            '06': 'd'}\n",
    "\n",
    "        for subdir, dirs, files in os.walk(path):\n",
    "            for filename in files:\n",
    "              destination_path = TRAINING_FILES_PATH + 'savee/'\n",
    "              old_file_path = os.path.join(os.path.abspath(subdir), filename)\n",
    "\n",
    "              base, extension = os.path.splitext(filename)\n",
    "\n",
    "              for key, value in label_conversion.items():\n",
    "                if(((filename.split('.')[0]).split('_')[1][:-2]) == value and ((filename.split('.')[0]).split('_')[1][:-2]) != 'su'):\n",
    "                  random_list = random.sample(range(10, 99), 7)\n",
    "                  file_name = '-'.join([str(i) for i in random_list])\n",
    "                  file_name_with_correct_emotion = file_name[:6] + key + file_name[8:] + extension\n",
    "                  new_file_path = destination_path + file_name_with_correct_emotion\n",
    "                  shutil.copy(old_file_path, new_file_path)\n",
    "                    \n",
    "\n",
    "if __name__ == '__main__':\n",
    "    SaveePipeline.create_savee_folder(Savee_original_data_path)"
   ]
  },
  {
   "cell_type": "code",
   "execution_count": null,
   "metadata": {
    "id": "he5i8cThuPEd"
   },
   "outputs": [],
   "source": [
    "TRAINING_FILES_PATH = 'specs_6_RTSC/'\n",
    "crema_original_data_path = 'crema_specs'"
   ]
  },
  {
   "cell_type": "code",
   "execution_count": null,
   "metadata": {
    "id": "4AvCpPXZtm2T"
   },
   "outputs": [],
   "source": [
    "class CremaPipeline:\n",
    "\n",
    "    @staticmethod\n",
    "    def create_crema_folder(path):\n",
    "       \n",
    "        counter = 0\n",
    "\n",
    "        label_conversion = {'01': 'NEU',\n",
    "                            '02': 'HAP',\n",
    "                            '03': 'SAD',\n",
    "                            '04': 'ANG',\n",
    "                            '05': 'FEA',\n",
    "                            '06': 'DIS'}\n",
    "        \n",
    "\n",
    "        for subdir, dirs, files in os.walk(path):\n",
    "            for filename in files:\n",
    "              destination_path = TRAINING_FILES_PATH + 'crema/'\n",
    "              old_file_path = os.path.join(os.path.abspath(subdir), filename)\n",
    "\n",
    "              base, extension = os.path.splitext(filename)\n",
    "\n",
    "              for key, value in label_conversion.items():\n",
    "                if(filename.split('_')[2] == value):\n",
    "                  random_list = random.sample(range(10, 99), 7)\n",
    "                  file_name = '-'.join([str(i) for i in random_list])\n",
    "                  file_name_with_correct_emotion = file_name[:6] + key + file_name[8:] + extension\n",
    "                  new_file_path = destination_path + file_name_with_correct_emotion\n",
    "                  shutil.copy(old_file_path, new_file_path)\n",
    "                    \n",
    "\n",
    "if __name__ == '__main__':\n",
    "    CremaPipeline.create_crema_folder(crema_original_data_path)"
   ]
  },
  {
   "cell_type": "code",
   "execution_count": null,
   "metadata": {},
   "outputs": [],
   "source": [
    "TRAINING_FILES_PATH = 'specs_6_RTSC/'\n",
    "emo_original_data_path = 'Emodb_specs'"
   ]
  },
  {
   "cell_type": "code",
   "execution_count": null,
   "metadata": {},
   "outputs": [],
   "source": [
    "class EmodbPipeline:\n",
    "\n",
    "    @staticmethod\n",
    "    def create_emo_folder(path):\n",
    "       \n",
    "        counter = 0\n",
    "\n",
    "        label_conversion =  {'W': '04' , 'E': '06'  , 'A': '05'  , 'F': '02'   ,'T': '03'   , 'N': '01'}\n",
    "        \n",
    "\n",
    "        for subdir, dirs, files in os.walk(path):\n",
    "            for filename in files:\n",
    "              destination_path = TRAINING_FILES_PATH + 'emodb/'\n",
    "              old_file_path = os.path.join(os.path.abspath(subdir), filename)\n",
    "\n",
    "              base, extension = os.path.splitext(filename)\n",
    "\n",
    "              for key, value in label_conversion.items():\n",
    "                if(filename.split('.')[0][-2] == key):\n",
    "                  random_list = random.sample(range(10, 99), 7)\n",
    "                  file_name = '-'.join([str(i) for i in random_list])\n",
    "                  file_name_with_correct_emotion = file_name[:6] + value + file_name[8:] + extension\n",
    "                  new_file_path = destination_path + file_name_with_correct_emotion\n",
    "                  shutil.copy(old_file_path, new_file_path)\n",
    "                    \n",
    "\n",
    "if __name__ == '__main__':\n",
    "    EmodbPipeline.create_emo_folder(emo_original_data_path)\n",
    "\n",
    "\n"
   ]
  },
  {
   "cell_type": "code",
   "execution_count": null,
   "metadata": {},
   "outputs": [],
   "source": [
    "TRAINING_FILES_PATH = 'Rav_Tess_6/'\n",
    "rav_path = 'Ravdess'"
   ]
  },
  {
   "cell_type": "code",
   "execution_count": null,
   "metadata": {},
   "outputs": [],
   "source": [
    "class ravPipeline:\n",
    "\n",
    "    @staticmethod\n",
    "    def create_rav_folder(path):\n",
    "       \n",
    "        counter = 0\n",
    "\n",
    "        label_conversion = {'01': '01',\n",
    "                            '02': '03',\n",
    "                            '03': '04',\n",
    "                            '04': '05',\n",
    "                            '05': '06',\n",
    "                            '06': '07'}\n",
    "        \n",
    "\n",
    "        for subdir, dirs, files in os.walk(path):\n",
    "            for filename in files:\n",
    "                if(filename[6:8] != '02' and filename[6:8] != '08'):\n",
    "                    destination_path = TRAINING_FILES_PATH + 'RT_6_/'\n",
    "                    old_file_path = os.path.join(os.path.abspath(subdir), filename)\n",
    "\n",
    "                    base, extension = os.path.splitext(filename)\n",
    "\n",
    "                    for key, value in label_conversion.items():\n",
    "                        if(filename[6:8] == value):\n",
    "                            file_name_with_correct_emotion = filename[:6] + key + filename[8:] + extension\n",
    "                            new_file_path = destination_path + file_name_with_correct_emotion\n",
    "                            shutil.copy(old_file_path, new_file_path)\n",
    "                    \n",
    "\n",
    "if __name__ == '__main__':\n",
    "    ravPipeline.create_rav_folder(rav_path)"
   ]
  },
  {
   "cell_type": "code",
   "execution_count": null,
   "metadata": {},
   "outputs": [],
   "source": [
    "path = 'Emo_spec/' \n",
    "in_path = 'specs_test/'"
   ]
  },
  {
   "cell_type": "code",
   "execution_count": null,
   "metadata": {},
   "outputs": [],
   "source": [
    "class Spectrograms_to_emotion_folders:\n",
    "\n",
    "  @staticmethod\n",
    "  def create_folders(path, folder_path):\n",
    "    \n",
    "\n",
    "    label_conversion = {'01': 'neutral',\n",
    "                            '02': 'happy',\n",
    "                            '03': 'sad',\n",
    "                            '04': 'angry',\n",
    "                            '05': 'fear',\n",
    "                            '06': 'disgust'}\n",
    "        \n",
    "    for emotion_number, emotions in label_conversion.items():\n",
    "        new_folder = emotions\n",
    "        new_folder_path = folder_path + new_folder + '/'\n",
    "        os.mkdir(new_folder_path)\n",
    "    \n",
    "    for subdir, dirs, files in os.walk(path):\n",
    "        for filenames in files:\n",
    "            for emotion_number, emotions in label_conversion.items():\n",
    "                if(filenames[6:8] == emotion_number):\n",
    "                    destination_path = folder_path + emotions +'/'\n",
    "                    old_file_path = os.path.join(os.path.abspath(subdir), filenames)\n",
    "                    new_file_path = destination_path + filenames\n",
    "                    shutil.copy(old_file_path, new_file_path)\n",
    "\n",
    "        \n",
    "\n",
    "if __name__ == '__main__':\n",
    "    Spectrograms_to_emotion_folders.create_folders(path, in_path)\n",
    "\n"
   ]
  },
  {
   "cell_type": "code",
   "execution_count": null,
   "metadata": {},
   "outputs": [],
   "source": [
    "class Spectrograms_to_emotion_folders:\n",
    "\n",
    "  @staticmethod\n",
    "  def create_folders(path, folder_path):\n",
    "    \n",
    "\n",
    "    label_conversion = {'01': 'neutral',\n",
    "                            '02': 'happy',\n",
    "                            '03': 'sad',\n",
    "                            '04': 'angry',\n",
    "                            '05': 'fear',\n",
    "                            '06': 'disgust'}\n",
    "        \n",
    "    for emotion_number, emotions in label_conversion.items():\n",
    "        new_folder = emotions\n",
    "        new_folder_path = folder_path + new_folder + '/'\n",
    "        os.mkdir(new_folder_path)\n",
    "    \n",
    "    for subdir, dirs, files in os.walk(path):\n",
    "        for filenames in files:\n",
    "            print(filenames)\n",
    "            x, sr = librosa.load (subdir+'/'+filenames, sr=22050)\n",
    "            S = librosa.feature.melspectrogram(x, sr=sr, n_mels=128)\n",
    "            log_S = librosa.power_to_db(S, ref=np.max)\n",
    "            librosa.display.specshow(log_S, sr=sr, x_axis='time', y_axis='mel')\n",
    "            fig1 = plt.gcf()\n",
    "            plt.axis('off')\n",
    "            for emotion_number, emotions in label_conversion.items():\n",
    "                if(filenames[6:8] == emotion_number):\n",
    "                    image_fname = filenames.split('.')[0] + '.png'\n",
    "                    fig1.savefig(folder_path + emotions + '/' + image_fname, dpi=100) \n",
    "\n",
    "        \n",
    "\n",
    "if __name__ == '__main__':\n",
    "    Spectrograms_to_emotion_folders.create_folders(path, in_path)\n"
   ]
  },
  {
   "cell_type": "code",
   "execution_count": null,
   "metadata": {},
   "outputs": [],
   "source": [
    "count = 0\n",
    "for subdir, dirs, files in os.walk('specs_final'):\n",
    "    for file in files:\n",
    "        #if(file[6:8] != '08'):\n",
    "        count = count + 1\n",
    "\n",
    "print(count)"
   ]
  },
  {
   "cell_type": "code",
   "execution_count": null,
   "metadata": {
    "colab": {
     "base_uri": "https://localhost:8080/",
     "height": 443
    },
    "id": "W8siCSag2vmZ",
    "outputId": "e2332574-a274-4977-dd28-0de60b343366"
   },
   "outputs": [],
   "source": [
    "import time\n",
    "import os\n",
    "path = 'Ravdess/'\n",
    "lst = []\n",
    "\n",
    "start_time = time.time()\n",
    "\n",
    "for subdir, dirs, files in os.walk(path):\n",
    "    for file in files:\n",
    "        try:\n",
    "            #Load librosa array, obtain mfcss, store the file and the mcss information in a new array\n",
    "            X, sample_rate = librosa.load(os.path.join(subdir,file), res_type='kaiser_fast')\n",
    "            mfccs = np.mean(librosa.feature.mfcc(y=X, sr=sample_rate, n_mfcc=40).T,axis=0) \n",
    "            # The instruction below converts the labels (from 1 to 8) to a series from 0 to 7\n",
    "            # This is because our predictor needs to start from 0 otherwise it will try to predict also 0.\n",
    "            file = int(file[7:8]) - 1 \n",
    "            arr = mfccs, file\n",
    "            lst.append(arr)\n",
    "            # If the file is not valid, skip it\n",
    "        except ValueError:\n",
    "            continue\n",
    "\n",
    "print(\"--- Data loaded. Loading time: %s seconds ---\" % (time.time() - start_time))"
   ]
  },
  {
   "cell_type": "code",
   "execution_count": null,
   "metadata": {
    "colab": {
     "base_uri": "https://localhost:8080/"
    },
    "id": "_YYT1FR9vQVj",
    "outputId": "b9c1d7b3-28cf-49e2-9d34-2f9d42f7d459"
   },
   "outputs": [],
   "source": [
    "len(lst)"
   ]
  },
  {
   "cell_type": "code",
   "execution_count": null,
   "metadata": {
    "id": "6U9AUKRj7ZSk"
   },
   "outputs": [],
   "source": [
    "# Creating X and y: zip makes a list of all the first elements, and a list of all the second elements.\n",
    "X, y = zip(*lst)\n",
    "import numpy as np\n",
    "X = np.asarray(X)\n",
    "y = np.asarray(y)\n",
    "X.shape, y.shape\n",
    "\n",
    "# Saving joblib files to not load them again with the loop above\n",
    "import joblib\n",
    "X_name = 'X_RT_6_mfcc.joblib'\n",
    "y_name = 'y_Rt_6_mfcc.joblib'\n",
    "save_dir = 'Rav_Tess/'\n",
    "\n",
    "savedX = joblib.dump(X, os.path.join(save_dir, X_name))\n",
    "savedy = joblib.dump(y, os.path.join(save_dir, y_name))"
   ]
  },
  {
   "cell_type": "code",
   "execution_count": 2,
   "metadata": {
    "id": "fLBQgDXO9mRM"
   },
   "outputs": [],
   "source": [
    "# Loading saved models\n",
    "import pandas as pd\n",
    "import joblib\n",
    "X = joblib.load('Rav_Tess/X.joblib')\n",
    "y = joblib.load('Rav_Tess/y.joblib')"
   ]
  },
  {
   "cell_type": "code",
   "execution_count": 3,
   "metadata": {
    "id": "tfpA4tSG9yDr"
   },
   "outputs": [],
   "source": [
    "from sklearn.model_selection import train_test_split\n",
    "\n",
    "X_train, X_test, y_train, y_test = train_test_split(X,y, test_size=0.1, random_state=42)"
   ]
  },
  {
   "cell_type": "code",
   "execution_count": 4,
   "metadata": {
    "colab": {
     "base_uri": "https://localhost:8080/"
    },
    "id": "2CSF0evgWrXc",
    "outputId": "68e40b42-49fa-4c8a-bd11-f1ffc2a5df25"
   },
   "outputs": [
    {
     "data": {
      "text/plain": [
       "(4726,)"
      ]
     },
     "execution_count": 4,
     "metadata": {},
     "output_type": "execute_result"
    }
   ],
   "source": [
    "y_train.shape"
   ]
  },
  {
   "cell_type": "code",
   "execution_count": 5,
   "metadata": {
    "id": "CiAUtBFp-Nmh"
   },
   "outputs": [],
   "source": [
    "x_traincnn = np.expand_dims(X_train, axis=2)\n",
    "x_testcnn = np.expand_dims(X_test, axis=2)"
   ]
  },
  {
   "cell_type": "code",
   "execution_count": 6,
   "metadata": {
    "colab": {
     "base_uri": "https://localhost:8080/"
    },
    "id": "6aTCraOjnkgB",
    "outputId": "b2351399-0cbd-4e83-eb9b-699db645bc1b"
   },
   "outputs": [
    {
     "name": "stdout",
     "output_type": "stream",
     "text": [
      "(4726, 40, 1)\n"
     ]
    }
   ],
   "source": [
    "print(x_traincnn.shape)"
   ]
  },
  {
   "cell_type": "code",
   "execution_count": 7,
   "metadata": {
    "colab": {
     "base_uri": "https://localhost:8080/"
    },
    "id": "pwm4VI1W-TUp",
    "outputId": "a5a976a6-2f0b-4885-de15-0e45a3fb1d33"
   },
   "outputs": [
    {
     "data": {
      "text/plain": [
       "((4726, 40, 1), (526, 40, 1))"
      ]
     },
     "execution_count": 7,
     "metadata": {},
     "output_type": "execute_result"
    }
   ],
   "source": [
    "x_traincnn.shape, x_testcnn.shape"
   ]
  },
  {
   "cell_type": "code",
   "execution_count": 8,
   "metadata": {
    "id": "SYPBNZRd-bzw"
   },
   "outputs": [
    {
     "name": "stdout",
     "output_type": "stream",
     "text": [
      "Model: \"sequential\"\n",
      "_________________________________________________________________\n",
      "Layer (type)                 Output Shape              Param #   \n",
      "=================================================================\n",
      "conv1d (Conv1D)              (None, 40, 64)            384       \n",
      "_________________________________________________________________\n",
      "activation (Activation)      (None, 40, 64)            0         \n",
      "_________________________________________________________________\n",
      "dropout (Dropout)            (None, 40, 64)            0         \n",
      "_________________________________________________________________\n",
      "max_pooling1d (MaxPooling1D) (None, 10, 64)            0         \n",
      "_________________________________________________________________\n",
      "conv1d_1 (Conv1D)            (None, 10, 128)           41088     \n",
      "_________________________________________________________________\n",
      "activation_1 (Activation)    (None, 10, 128)           0         \n",
      "_________________________________________________________________\n",
      "dropout_1 (Dropout)          (None, 10, 128)           0         \n",
      "_________________________________________________________________\n",
      "max_pooling1d_1 (MaxPooling1 (None, 2, 128)            0         \n",
      "_________________________________________________________________\n",
      "conv1d_2 (Conv1D)            (None, 2, 256)            164096    \n",
      "_________________________________________________________________\n",
      "activation_2 (Activation)    (None, 2, 256)            0         \n",
      "_________________________________________________________________\n",
      "dropout_2 (Dropout)          (None, 2, 256)            0         \n",
      "_________________________________________________________________\n",
      "flatten (Flatten)            (None, 512)               0         \n",
      "_________________________________________________________________\n",
      "dense (Dense)                (None, 8)                 4104      \n",
      "_________________________________________________________________\n",
      "activation_3 (Activation)    (None, 8)                 0         \n",
      "=================================================================\n",
      "Total params: 209,672\n",
      "Trainable params: 209,672\n",
      "Non-trainable params: 0\n",
      "_________________________________________________________________\n"
     ]
    }
   ],
   "source": [
    "#model1\n",
    "model = Sequential()\n",
    "\n",
    "model.add(Conv1D(64, 5,padding='same',\n",
    "                 input_shape=(40,1)))\n",
    "model.add(Activation('relu'))\n",
    "model.add(Dropout(0.1))\n",
    "model.add(MaxPooling1D(pool_size=(4)))\n",
    "model.add(Conv1D(128, 5,padding='same',))\n",
    "model.add(Activation('relu'))\n",
    "model.add(Dropout(0.1))\n",
    "model.add(MaxPooling1D(pool_size=(4)))\n",
    "model.add(Conv1D(256, 5,padding='same',))\n",
    "model.add(Activation('relu'))\n",
    "model.add(Dropout(0.1))\n",
    "model.add(Flatten())\n",
    "model.add(Dense(8))\n",
    "model.add(Activation('softmax'))\n",
    "opt = tf.keras.optimizers.RMSprop(lr=0.00005, rho=0.9, epsilon=1e-07, decay=0.0)\n",
    "#opt=tf.keras.optimizers.Adam(learning_rate=0.000001)\n",
    "model.summary()"
   ]
  },
  {
   "cell_type": "code",
   "execution_count": null,
   "metadata": {},
   "outputs": [],
   "source": [
    "#model-3\n",
    "\"\"\"model = Sequential()\n",
    "model.add(Conv1D(256, 8, padding='same',input_shape=(40,1)))  # X_train.shape[1] = No. of Columns\n",
    "model.add(Activation('relu'))\n",
    "model.add(Conv1D(256, 8, padding='same'))\n",
    "model.add(BatchNormalization())\n",
    "model.add(Conv1D(256, 8, padding='same'))\n",
    "model.add(BatchNormalization())\n",
    "model.add(Conv1D(256, 8, padding='same'))\n",
    "model.add(BatchNormalization())\n",
    "model.add(Activation('relu'))\n",
    "model.add(Dropout(0.25))\n",
    "model.add(MaxPooling1D(pool_size=(5)))\n",
    "model.add(Conv1D(128, 8, padding='same'))\n",
    "model.add(Activation('relu'))\n",
    "model.add(Conv1D(128, 8, padding='same'))\n",
    "model.add(Activation('relu'))\n",
    "model.add(Conv1D(128, 8, padding='same'))\n",
    "model.add(Activation('relu'))\n",
    "model.add(Conv1D(128, 8, padding='same'))\n",
    "model.add(Activation('relu'))\n",
    "model.add(Conv1D(128, 8, padding='same'))\n",
    "model.add(Activation('relu'))\n",
    "model.add(Conv1D(128, 8, padding='same'))\n",
    "model.add(BatchNormalization())\n",
    "model.add(Activation('relu'))\n",
    "model.add(Dropout(0.25))\n",
    "model.add(MaxPooling1D(pool_size=(8)))\n",
    "model.add(Conv1D(64, 8, padding='same'))\n",
    "model.add(Activation('relu'))\n",
    "model.add(Conv1D(64, 8, padding='same'))\n",
    "model.add(Activation('relu'))\n",
    "model.add(Conv1D(64, 8, padding='same'))\n",
    "model.add(Activation('relu'))\n",
    "model.add(Flatten())\n",
    "model.add(Dense(6)) # Target class number\n",
    "model.add(Activation('softmax'))\n",
    "\n",
    "#opt = keras.optimizers.SGD(lr=0.0001, momentum=0.0, decay=0.0, nesterov=False)\n",
    "#opt = keras.optimizers.Adam(lr=0.000001)\n",
    "opt = keras.optimizers.RMSprop(lr=0.00005, decay=1e-6)\n",
    "model.summary()\n",
    "\"\"\"\n"
   ]
  },
  {
   "cell_type": "code",
   "execution_count": null,
   "metadata": {},
   "outputs": [],
   "source": [
    "#model4\n",
    "\"\"\"\n",
    "model = Sequential()\n",
    "\n",
    "model.add(Conv1D(64,5,dding='same',\n",
    "                 input_shape=(40,1)))\n",
    "model.add(Activation('relu'))\n",
    "model.add(Dropout(0.1))\n",
    "model.add(MaxPooling1D(pool_size=(4)))\n",
    "model.add(Conv1D(128, 5,padding='same',))\n",
    "model.add(Activation('relu'))\n",
    "model.add(Dropout(0.1))\n",
    "model.add(Conv1D(128, 5,padding='same',))\n",
    "model.add(Activation('relu'))\n",
    "model.add(Conv1D(128, 5,padding='same',))\n",
    "model.add(Activation('relu'))\n",
    "model.add(Dropout(0.1))\n",
    "model.add(MaxPooling1D(pool_size=(4)))\n",
    "model.add(Conv1D(256, 5,padding='same',))\n",
    "model.add(Activation('relu'))\n",
    "model.add(Dropout(0.1))\n",
    "model.add(Conv1D(256, 5,padding='same',))\n",
    "model.add(Activation('relu'))\n",
    "model.add(Dropout(0.1))\n",
    "model.add(Flatten())\n",
    "model.add(Dense(6))\n",
    "model.add(Activation('softmax'))\n",
    "#opt = tf.keras.optimizers.RMSprop(lr=0.00005, rho=0.9, epsilon=1e-07, decay=0.0)\n",
    "opt=tf.keras.optimizers.Adam(learning_rate=0.000001)\n",
    "model.summary()\n",
    "\"\"\""
   ]
  },
  {
   "cell_type": "code",
   "execution_count": null,
   "metadata": {},
   "outputs": [],
   "source": [
    "\"\"\"\n",
    "#model5\n",
    "model = Sequential()\n",
    "\n",
    "model.add(Conv1D(64,5,padding='same',\n",
    "                 input_shape=(40,1)))\n",
    "model.add(Activation('relu'))\n",
    "model.add(Dropout(0.1))\n",
    "model.add(MaxPooling1D(pool_size=(4)))\n",
    "model.add(Conv1D(128, 5,padding='same',))\n",
    "model.add(Activation('relu'))\n",
    "model.add(Dropout(0.1))\n",
    "model.add(Conv1D(128, 5,padding='same',))\n",
    "model.add(Activation('relu'))\n",
    "model.add(Conv1D(128, 5,padding='same',))\n",
    "model.add(Activation('relu'))\n",
    "model.add(Dropout(0.1))\n",
    "model.add(MaxPooling1D(pool_size=(4)))\n",
    "model.add(Conv1D(256, 5,padding='same',))\n",
    "model.add(Activation('relu'))\n",
    "model.add(Dropout(0.1))\n",
    "model.add(Conv1D(256, 5,padding='same',))\n",
    "model.add(Activation('relu'))\n",
    "model.add(Dropout(0.1))\n",
    "model.add(Conv1D(512,5,padding='same',))\n",
    "model.add(Activation('relu'))\n",
    "model.add(Conv1D(1024,5,padding='same',))\n",
    "model.add(Activation('relu'))\n",
    "model.add(Dropout(0.1))\n",
    "model.add(Flatten())\n",
    "model.add(Dense(6))\n",
    "model.add(Activation('softmax'))\n",
    "opt = tf.keras.optimizers.RMSprop(lr=0.00005, rho=0.9, epsilon=1e-07, decay=0.0)#\n",
    "#opt=tf.keras.optimizers.Adam(learning_rate=0.000001)\n",
    "model.summary()\n",
    "\"\"\""
   ]
  },
  {
   "cell_type": "code",
   "execution_count": 9,
   "metadata": {
    "id": "E3esVGa__Nfm"
   },
   "outputs": [],
   "source": [
    "model.compile(loss='sparse_categorical_crossentropy',\n",
    "              optimizer=opt,\n",
    "              metrics=['accuracy'])"
   ]
  },
  {
   "cell_type": "code",
   "execution_count": null,
   "metadata": {
    "colab": {
     "base_uri": "https://localhost:8080/",
     "height": 1000
    },
    "id": "sVzNEOtudEZE",
    "outputId": "497b74bf-1071-475b-9e5b-7319cc14acc4"
   },
   "outputs": [],
   "source": [
    "#plot_model(model, to_file='cnn_6.png', show_shapes=False, show_layer_names=False)"
   ]
  },
  {
   "cell_type": "code",
   "execution_count": null,
   "metadata": {},
   "outputs": [],
   "source": [
    "checkpoint_filepath = 'cnn1_RT6_mfccs.h5'\n",
    "model_checkpoint_callback = ModelCheckpoint(\n",
    "    filepath=  'Rav_Tess/'+ checkpoint_filepath,\n",
    "    save_weights_only=False,\n",
    "    monitor='val_accuracy',\n",
    "    mode='max',\n",
    "    save_best_only=True)"
   ]
  },
  {
   "cell_type": "code",
   "execution_count": 10,
   "metadata": {
    "colab": {
     "base_uri": "https://localhost:8080/"
    },
    "id": "xTklDY_S_Rv2",
    "outputId": "99dd2d73-8142-4ef9-d2e8-72c9d208397b"
   },
   "outputs": [
    {
     "name": "stdout",
     "output_type": "stream",
     "text": [
      "Epoch 1/200\n",
      "296/296 [==============================] - 1s 5ms/step - loss: 3.2312 - accuracy: 0.2044 - val_loss: 1.6090 - val_accuracy: 0.3992\n",
      "Epoch 2/200\n",
      "296/296 [==============================] - 1s 4ms/step - loss: 1.9859 - accuracy: 0.3614 - val_loss: 1.4495 - val_accuracy: 0.4886\n",
      "Epoch 3/200\n",
      "296/296 [==============================] - 1s 4ms/step - loss: 1.6267 - accuracy: 0.4549 - val_loss: 1.3120 - val_accuracy: 0.5399\n",
      "Epoch 4/200\n",
      "296/296 [==============================] - 1s 4ms/step - loss: 1.4427 - accuracy: 0.5150 - val_loss: 1.2000 - val_accuracy: 0.5665\n",
      "Epoch 5/200\n",
      "296/296 [==============================] - 1s 4ms/step - loss: 1.3102 - accuracy: 0.5540 - val_loss: 1.1902 - val_accuracy: 0.5875\n",
      "Epoch 6/200\n",
      "296/296 [==============================] - 1s 4ms/step - loss: 1.2126 - accuracy: 0.5730 - val_loss: 1.0434 - val_accuracy: 0.6502\n",
      "Epoch 7/200\n",
      "296/296 [==============================] - 1s 4ms/step - loss: 1.1433 - accuracy: 0.6009 - val_loss: 1.0272 - val_accuracy: 0.6274\n",
      "Epoch 8/200\n",
      "296/296 [==============================] - 1s 4ms/step - loss: 1.0984 - accuracy: 0.6155 - val_loss: 0.9512 - val_accuracy: 0.6730\n",
      "Epoch 9/200\n",
      "296/296 [==============================] - 1s 4ms/step - loss: 1.0430 - accuracy: 0.6284 - val_loss: 0.9124 - val_accuracy: 0.6844\n",
      "Epoch 10/200\n",
      "296/296 [==============================] - 1s 4ms/step - loss: 1.0029 - accuracy: 0.6365 - val_loss: 0.9126 - val_accuracy: 0.6616\n",
      "Epoch 11/200\n",
      "296/296 [==============================] - 1s 4ms/step - loss: 0.9652 - accuracy: 0.6464 - val_loss: 0.8868 - val_accuracy: 0.6901\n",
      "Epoch 12/200\n",
      "296/296 [==============================] - 1s 4ms/step - loss: 0.9459 - accuracy: 0.6572 - val_loss: 0.8431 - val_accuracy: 0.7167\n",
      "Epoch 13/200\n",
      "296/296 [==============================] - 1s 4ms/step - loss: 0.9238 - accuracy: 0.6602 - val_loss: 0.8010 - val_accuracy: 0.7490\n",
      "Epoch 14/200\n",
      "296/296 [==============================] - 1s 4ms/step - loss: 0.8998 - accuracy: 0.6646 - val_loss: 0.8248 - val_accuracy: 0.7072\n",
      "Epoch 15/200\n",
      "296/296 [==============================] - 1s 4ms/step - loss: 0.8846 - accuracy: 0.6744 - val_loss: 0.7878 - val_accuracy: 0.7224\n",
      "Epoch 16/200\n",
      "296/296 [==============================] - 1s 4ms/step - loss: 0.8688 - accuracy: 0.6830 - val_loss: 0.7775 - val_accuracy: 0.7186\n",
      "Epoch 17/200\n",
      "296/296 [==============================] - 1s 4ms/step - loss: 0.8587 - accuracy: 0.6794 - val_loss: 0.7596 - val_accuracy: 0.7376\n",
      "Epoch 18/200\n",
      "296/296 [==============================] - 1s 4ms/step - loss: 0.8287 - accuracy: 0.6942 - val_loss: 0.7894 - val_accuracy: 0.7167\n",
      "Epoch 19/200\n",
      "296/296 [==============================] - 1s 4ms/step - loss: 0.8221 - accuracy: 0.6898 - val_loss: 0.7391 - val_accuracy: 0.7395\n",
      "Epoch 20/200\n",
      "296/296 [==============================] - 1s 4ms/step - loss: 0.7901 - accuracy: 0.7069 - val_loss: 0.7383 - val_accuracy: 0.7338\n",
      "Epoch 21/200\n",
      "296/296 [==============================] - 1s 4ms/step - loss: 0.7808 - accuracy: 0.7076 - val_loss: 0.7293 - val_accuracy: 0.7452\n",
      "Epoch 22/200\n",
      "296/296 [==============================] - 1s 4ms/step - loss: 0.7709 - accuracy: 0.7127 - val_loss: 0.7046 - val_accuracy: 0.7490\n",
      "Epoch 23/200\n",
      "296/296 [==============================] - 1s 4ms/step - loss: 0.7580 - accuracy: 0.7182 - val_loss: 0.6963 - val_accuracy: 0.7624\n",
      "Epoch 24/200\n",
      "296/296 [==============================] - 1s 4ms/step - loss: 0.7454 - accuracy: 0.7213 - val_loss: 0.7187 - val_accuracy: 0.7452\n",
      "Epoch 25/200\n",
      "296/296 [==============================] - 1s 4ms/step - loss: 0.7286 - accuracy: 0.7251 - val_loss: 0.6988 - val_accuracy: 0.7376\n",
      "Epoch 26/200\n",
      "296/296 [==============================] - 1s 4ms/step - loss: 0.7357 - accuracy: 0.7198 - val_loss: 0.6631 - val_accuracy: 0.7662\n",
      "Epoch 27/200\n",
      "296/296 [==============================] - 1s 4ms/step - loss: 0.7240 - accuracy: 0.7283 - val_loss: 0.6611 - val_accuracy: 0.7605\n",
      "Epoch 28/200\n",
      "296/296 [==============================] - 1s 4ms/step - loss: 0.7135 - accuracy: 0.7338 - val_loss: 0.6790 - val_accuracy: 0.7548\n",
      "Epoch 29/200\n",
      "296/296 [==============================] - 1s 4ms/step - loss: 0.6970 - accuracy: 0.7391 - val_loss: 0.6535 - val_accuracy: 0.7662\n",
      "Epoch 30/200\n",
      "296/296 [==============================] - 1s 4ms/step - loss: 0.6970 - accuracy: 0.7410 - val_loss: 0.6592 - val_accuracy: 0.7605\n",
      "Epoch 31/200\n",
      "296/296 [==============================] - 1s 4ms/step - loss: 0.6873 - accuracy: 0.7389 - val_loss: 0.6670 - val_accuracy: 0.7586\n",
      "Epoch 32/200\n",
      "296/296 [==============================] - 1s 4ms/step - loss: 0.6706 - accuracy: 0.7533 - val_loss: 0.6409 - val_accuracy: 0.7776\n",
      "Epoch 33/200\n",
      "296/296 [==============================] - 1s 4ms/step - loss: 0.6800 - accuracy: 0.7512 - val_loss: 0.6470 - val_accuracy: 0.7624\n",
      "Epoch 34/200\n",
      "296/296 [==============================] - 1s 4ms/step - loss: 0.6723 - accuracy: 0.7507 - val_loss: 0.6211 - val_accuracy: 0.7757\n",
      "Epoch 35/200\n",
      "296/296 [==============================] - 1s 4ms/step - loss: 0.6582 - accuracy: 0.7560 - val_loss: 0.6258 - val_accuracy: 0.7738\n",
      "Epoch 36/200\n",
      "296/296 [==============================] - 1s 4ms/step - loss: 0.6522 - accuracy: 0.7531 - val_loss: 0.6342 - val_accuracy: 0.7643\n",
      "Epoch 37/200\n",
      "296/296 [==============================] - 1s 4ms/step - loss: 0.6313 - accuracy: 0.7668 - val_loss: 0.5980 - val_accuracy: 0.7871\n",
      "Epoch 38/200\n",
      "296/296 [==============================] - 1s 4ms/step - loss: 0.6332 - accuracy: 0.7617 - val_loss: 0.6049 - val_accuracy: 0.7947\n",
      "Epoch 39/200\n",
      "296/296 [==============================] - 1s 4ms/step - loss: 0.6329 - accuracy: 0.7611 - val_loss: 0.6007 - val_accuracy: 0.7890\n",
      "Epoch 40/200\n",
      "296/296 [==============================] - 1s 4ms/step - loss: 0.6198 - accuracy: 0.7742 - val_loss: 0.5897 - val_accuracy: 0.7890\n",
      "Epoch 41/200\n",
      "296/296 [==============================] - 1s 4ms/step - loss: 0.6088 - accuracy: 0.7730 - val_loss: 0.5993 - val_accuracy: 0.7947\n",
      "Epoch 42/200\n",
      "296/296 [==============================] - 1s 4ms/step - loss: 0.6140 - accuracy: 0.7734 - val_loss: 0.5930 - val_accuracy: 0.7738\n",
      "Epoch 43/200\n",
      "296/296 [==============================] - 1s 4ms/step - loss: 0.5940 - accuracy: 0.7761 - val_loss: 0.5678 - val_accuracy: 0.7966\n",
      "Epoch 44/200\n",
      "296/296 [==============================] - 1s 4ms/step - loss: 0.6013 - accuracy: 0.7706 - val_loss: 0.5632 - val_accuracy: 0.8004\n",
      "Epoch 45/200\n",
      "296/296 [==============================] - 1s 4ms/step - loss: 0.6028 - accuracy: 0.7747 - val_loss: 0.5628 - val_accuracy: 0.8118\n",
      "Epoch 46/200\n",
      "296/296 [==============================] - 1s 4ms/step - loss: 0.5945 - accuracy: 0.7778 - val_loss: 0.5751 - val_accuracy: 0.7909\n",
      "Epoch 47/200\n",
      "296/296 [==============================] - 1s 4ms/step - loss: 0.5866 - accuracy: 0.7812 - val_loss: 0.5783 - val_accuracy: 0.8004\n",
      "Epoch 48/200\n",
      "296/296 [==============================] - 1s 4ms/step - loss: 0.5767 - accuracy: 0.7846 - val_loss: 0.5561 - val_accuracy: 0.8061\n",
      "Epoch 49/200\n",
      "296/296 [==============================] - 1s 4ms/step - loss: 0.5892 - accuracy: 0.7789 - val_loss: 0.5718 - val_accuracy: 0.8023\n",
      "Epoch 50/200\n",
      "296/296 [==============================] - 1s 4ms/step - loss: 0.5665 - accuracy: 0.7899 - val_loss: 0.5714 - val_accuracy: 0.8061\n",
      "Epoch 51/200\n",
      "296/296 [==============================] - 1s 4ms/step - loss: 0.5638 - accuracy: 0.7888 - val_loss: 0.5906 - val_accuracy: 0.7795\n",
      "Epoch 52/200\n",
      "296/296 [==============================] - 1s 4ms/step - loss: 0.5672 - accuracy: 0.7918 - val_loss: 0.5456 - val_accuracy: 0.8061\n",
      "Epoch 53/200\n",
      "296/296 [==============================] - 1s 4ms/step - loss: 0.5527 - accuracy: 0.7926 - val_loss: 0.5521 - val_accuracy: 0.8061\n",
      "Epoch 54/200\n",
      "296/296 [==============================] - 1s 4ms/step - loss: 0.5589 - accuracy: 0.7950 - val_loss: 0.5309 - val_accuracy: 0.8004\n",
      "Epoch 55/200\n",
      "296/296 [==============================] - 1s 4ms/step - loss: 0.5470 - accuracy: 0.8032 - val_loss: 0.5545 - val_accuracy: 0.7909\n",
      "Epoch 56/200\n",
      "296/296 [==============================] - 1s 4ms/step - loss: 0.5407 - accuracy: 0.8003 - val_loss: 0.5476 - val_accuracy: 0.7947\n",
      "Epoch 57/200\n",
      "296/296 [==============================] - 1s 4ms/step - loss: 0.5456 - accuracy: 0.7971 - val_loss: 0.5425 - val_accuracy: 0.8004\n"
     ]
    },
    {
     "name": "stdout",
     "output_type": "stream",
     "text": [
      "Epoch 58/200\n",
      "296/296 [==============================] - 1s 4ms/step - loss: 0.5362 - accuracy: 0.8032 - val_loss: 0.5231 - val_accuracy: 0.7985\n",
      "Epoch 59/200\n",
      "296/296 [==============================] - 1s 4ms/step - loss: 0.5384 - accuracy: 0.7998 - val_loss: 0.5633 - val_accuracy: 0.7814\n",
      "Epoch 60/200\n",
      "296/296 [==============================] - 1s 4ms/step - loss: 0.5361 - accuracy: 0.8041 - val_loss: 0.5128 - val_accuracy: 0.8099\n",
      "Epoch 61/200\n",
      "296/296 [==============================] - 1s 4ms/step - loss: 0.5332 - accuracy: 0.7996 - val_loss: 0.5521 - val_accuracy: 0.7947\n",
      "Epoch 62/200\n",
      "296/296 [==============================] - 1s 4ms/step - loss: 0.5265 - accuracy: 0.8058 - val_loss: 0.5158 - val_accuracy: 0.8232\n",
      "Epoch 63/200\n",
      "296/296 [==============================] - 1s 4ms/step - loss: 0.5151 - accuracy: 0.8085 - val_loss: 0.5027 - val_accuracy: 0.8156\n",
      "Epoch 64/200\n",
      "296/296 [==============================] - 1s 4ms/step - loss: 0.5147 - accuracy: 0.8110 - val_loss: 0.5072 - val_accuracy: 0.8156\n",
      "Epoch 65/200\n",
      "296/296 [==============================] - 1s 4ms/step - loss: 0.5054 - accuracy: 0.8149 - val_loss: 0.5154 - val_accuracy: 0.8156\n",
      "Epoch 66/200\n",
      "296/296 [==============================] - 1s 4ms/step - loss: 0.5107 - accuracy: 0.8117 - val_loss: 0.5134 - val_accuracy: 0.8156\n",
      "Epoch 67/200\n",
      "296/296 [==============================] - 1s 4ms/step - loss: 0.5085 - accuracy: 0.8102 - val_loss: 0.5184 - val_accuracy: 0.8175\n",
      "Epoch 68/200\n",
      "296/296 [==============================] - 1s 4ms/step - loss: 0.5011 - accuracy: 0.8161 - val_loss: 0.5033 - val_accuracy: 0.8175\n",
      "Epoch 69/200\n",
      "296/296 [==============================] - 1s 4ms/step - loss: 0.4969 - accuracy: 0.8168 - val_loss: 0.4959 - val_accuracy: 0.8156\n",
      "Epoch 70/200\n",
      "296/296 [==============================] - 1s 4ms/step - loss: 0.5011 - accuracy: 0.8157 - val_loss: 0.4904 - val_accuracy: 0.8232\n",
      "Epoch 71/200\n",
      "296/296 [==============================] - 1s 4ms/step - loss: 0.4926 - accuracy: 0.8189 - val_loss: 0.5006 - val_accuracy: 0.8194\n",
      "Epoch 72/200\n",
      "296/296 [==============================] - 1s 4ms/step - loss: 0.4842 - accuracy: 0.8206 - val_loss: 0.5067 - val_accuracy: 0.8137\n",
      "Epoch 73/200\n",
      "296/296 [==============================] - 1s 4ms/step - loss: 0.4774 - accuracy: 0.8261 - val_loss: 0.4823 - val_accuracy: 0.8308\n",
      "Epoch 74/200\n",
      "296/296 [==============================] - 1s 4ms/step - loss: 0.4710 - accuracy: 0.8288 - val_loss: 0.4723 - val_accuracy: 0.8365\n",
      "Epoch 75/200\n",
      "296/296 [==============================] - 1s 4ms/step - loss: 0.4848 - accuracy: 0.8142 - val_loss: 0.4891 - val_accuracy: 0.8346\n",
      "Epoch 76/200\n",
      "296/296 [==============================] - 1s 4ms/step - loss: 0.4851 - accuracy: 0.8254 - val_loss: 0.4905 - val_accuracy: 0.8118\n",
      "Epoch 77/200\n",
      "296/296 [==============================] - 1s 4ms/step - loss: 0.4777 - accuracy: 0.8210 - val_loss: 0.4693 - val_accuracy: 0.8365\n",
      "Epoch 78/200\n",
      "296/296 [==============================] - 1s 4ms/step - loss: 0.4659 - accuracy: 0.8242 - val_loss: 0.4931 - val_accuracy: 0.8099\n",
      "Epoch 79/200\n",
      "296/296 [==============================] - 1s 4ms/step - loss: 0.4654 - accuracy: 0.8248 - val_loss: 0.4712 - val_accuracy: 0.8156\n",
      "Epoch 80/200\n",
      "296/296 [==============================] - 1s 4ms/step - loss: 0.4518 - accuracy: 0.8322 - val_loss: 0.4773 - val_accuracy: 0.8365\n",
      "Epoch 81/200\n",
      "296/296 [==============================] - 1s 4ms/step - loss: 0.4587 - accuracy: 0.8297 - val_loss: 0.4714 - val_accuracy: 0.8403\n",
      "Epoch 82/200\n",
      "296/296 [==============================] - 1s 4ms/step - loss: 0.4556 - accuracy: 0.8394 - val_loss: 0.4627 - val_accuracy: 0.8232\n",
      "Epoch 83/200\n",
      "296/296 [==============================] - 1s 4ms/step - loss: 0.4678 - accuracy: 0.8280 - val_loss: 0.4767 - val_accuracy: 0.8270\n",
      "Epoch 84/200\n",
      "296/296 [==============================] - 1s 4ms/step - loss: 0.4539 - accuracy: 0.8303 - val_loss: 0.4468 - val_accuracy: 0.8479\n",
      "Epoch 85/200\n",
      "296/296 [==============================] - 1s 4ms/step - loss: 0.4513 - accuracy: 0.8318 - val_loss: 0.4532 - val_accuracy: 0.8365\n",
      "Epoch 86/200\n",
      "296/296 [==============================] - 1s 4ms/step - loss: 0.4448 - accuracy: 0.8369 - val_loss: 0.4543 - val_accuracy: 0.8289\n",
      "Epoch 87/200\n",
      "296/296 [==============================] - 1s 4ms/step - loss: 0.4476 - accuracy: 0.8337 - val_loss: 0.4512 - val_accuracy: 0.8194\n",
      "Epoch 88/200\n",
      "296/296 [==============================] - 1s 4ms/step - loss: 0.4383 - accuracy: 0.8371 - val_loss: 0.4649 - val_accuracy: 0.8251\n",
      "Epoch 89/200\n",
      "296/296 [==============================] - 1s 4ms/step - loss: 0.4403 - accuracy: 0.8400 - val_loss: 0.4740 - val_accuracy: 0.8175\n",
      "Epoch 90/200\n",
      "296/296 [==============================] - 1s 4ms/step - loss: 0.4411 - accuracy: 0.8333 - val_loss: 0.4741 - val_accuracy: 0.8289\n",
      "Epoch 91/200\n",
      "296/296 [==============================] - 1s 4ms/step - loss: 0.4330 - accuracy: 0.8438 - val_loss: 0.4502 - val_accuracy: 0.8327\n",
      "Epoch 92/200\n",
      "296/296 [==============================] - 1s 4ms/step - loss: 0.4310 - accuracy: 0.8460 - val_loss: 0.4614 - val_accuracy: 0.8232\n",
      "Epoch 93/200\n",
      "296/296 [==============================] - 1s 4ms/step - loss: 0.4280 - accuracy: 0.8453 - val_loss: 0.4600 - val_accuracy: 0.8327\n",
      "Epoch 94/200\n",
      "296/296 [==============================] - 1s 4ms/step - loss: 0.4237 - accuracy: 0.8417 - val_loss: 0.4501 - val_accuracy: 0.8308\n",
      "Epoch 95/200\n",
      "296/296 [==============================] - 1s 4ms/step - loss: 0.4206 - accuracy: 0.8421 - val_loss: 0.4448 - val_accuracy: 0.8384\n",
      "Epoch 96/200\n",
      "296/296 [==============================] - 1s 4ms/step - loss: 0.4264 - accuracy: 0.8483 - val_loss: 0.4400 - val_accuracy: 0.8308\n",
      "Epoch 97/200\n",
      "296/296 [==============================] - 1s 4ms/step - loss: 0.4176 - accuracy: 0.8466 - val_loss: 0.4440 - val_accuracy: 0.8403\n",
      "Epoch 98/200\n",
      "296/296 [==============================] - 1s 4ms/step - loss: 0.4218 - accuracy: 0.8447 - val_loss: 0.4363 - val_accuracy: 0.8384\n",
      "Epoch 99/200\n",
      "296/296 [==============================] - 1s 4ms/step - loss: 0.4113 - accuracy: 0.8508 - val_loss: 0.4529 - val_accuracy: 0.8460\n",
      "Epoch 100/200\n",
      "296/296 [==============================] - 1s 4ms/step - loss: 0.4052 - accuracy: 0.8570 - val_loss: 0.4466 - val_accuracy: 0.8384\n",
      "Epoch 101/200\n",
      "296/296 [==============================] - 1s 4ms/step - loss: 0.4091 - accuracy: 0.8527 - val_loss: 0.4258 - val_accuracy: 0.8384\n",
      "Epoch 102/200\n",
      "296/296 [==============================] - 1s 4ms/step - loss: 0.4046 - accuracy: 0.8502 - val_loss: 0.4663 - val_accuracy: 0.8308\n",
      "Epoch 103/200\n",
      "296/296 [==============================] - 1s 4ms/step - loss: 0.4068 - accuracy: 0.8527 - val_loss: 0.4268 - val_accuracy: 0.8346\n",
      "Epoch 104/200\n",
      "296/296 [==============================] - 1s 4ms/step - loss: 0.4030 - accuracy: 0.8502 - val_loss: 0.4242 - val_accuracy: 0.8441\n",
      "Epoch 105/200\n",
      "296/296 [==============================] - 1s 4ms/step - loss: 0.4049 - accuracy: 0.8570 - val_loss: 0.4189 - val_accuracy: 0.8346\n",
      "Epoch 106/200\n",
      "296/296 [==============================] - 1s 4ms/step - loss: 0.3957 - accuracy: 0.8553 - val_loss: 0.4287 - val_accuracy: 0.8612\n",
      "Epoch 107/200\n",
      "296/296 [==============================] - 1s 4ms/step - loss: 0.3889 - accuracy: 0.8593 - val_loss: 0.4179 - val_accuracy: 0.8517\n",
      "Epoch 108/200\n",
      "296/296 [==============================] - 1s 4ms/step - loss: 0.3875 - accuracy: 0.8563 - val_loss: 0.4379 - val_accuracy: 0.8365\n",
      "Epoch 109/200\n",
      "296/296 [==============================] - 1s 4ms/step - loss: 0.3853 - accuracy: 0.8591 - val_loss: 0.4692 - val_accuracy: 0.8270\n",
      "Epoch 110/200\n",
      "296/296 [==============================] - 1s 4ms/step - loss: 0.3923 - accuracy: 0.8563 - val_loss: 0.4053 - val_accuracy: 0.8498\n",
      "Epoch 111/200\n",
      "296/296 [==============================] - 1s 4ms/step - loss: 0.3887 - accuracy: 0.8595 - val_loss: 0.4217 - val_accuracy: 0.8479\n",
      "Epoch 112/200\n",
      "296/296 [==============================] - 1s 4ms/step - loss: 0.3765 - accuracy: 0.8603 - val_loss: 0.4332 - val_accuracy: 0.8517\n",
      "Epoch 113/200\n",
      "296/296 [==============================] - 1s 4ms/step - loss: 0.3802 - accuracy: 0.8608 - val_loss: 0.4168 - val_accuracy: 0.8498\n",
      "Epoch 114/200\n",
      "296/296 [==============================] - 1s 4ms/step - loss: 0.3840 - accuracy: 0.8603 - val_loss: 0.4653 - val_accuracy: 0.8308\n"
     ]
    },
    {
     "name": "stdout",
     "output_type": "stream",
     "text": [
      "Epoch 115/200\n",
      "296/296 [==============================] - 1s 4ms/step - loss: 0.3809 - accuracy: 0.8599 - val_loss: 0.4246 - val_accuracy: 0.8422\n",
      "Epoch 116/200\n",
      "296/296 [==============================] - 1s 4ms/step - loss: 0.3729 - accuracy: 0.8656 - val_loss: 0.4068 - val_accuracy: 0.8460\n",
      "Epoch 117/200\n",
      "296/296 [==============================] - 1s 4ms/step - loss: 0.3708 - accuracy: 0.8652 - val_loss: 0.4280 - val_accuracy: 0.8365\n",
      "Epoch 118/200\n",
      "296/296 [==============================] - 1s 4ms/step - loss: 0.3776 - accuracy: 0.8629 - val_loss: 0.3984 - val_accuracy: 0.8707\n",
      "Epoch 119/200\n",
      "296/296 [==============================] - 1s 4ms/step - loss: 0.3604 - accuracy: 0.8699 - val_loss: 0.4269 - val_accuracy: 0.8403\n",
      "Epoch 120/200\n",
      "296/296 [==============================] - 1s 4ms/step - loss: 0.3605 - accuracy: 0.8684 - val_loss: 0.4239 - val_accuracy: 0.8403\n",
      "Epoch 121/200\n",
      "296/296 [==============================] - 1s 4ms/step - loss: 0.3650 - accuracy: 0.8661 - val_loss: 0.4107 - val_accuracy: 0.8593\n",
      "Epoch 122/200\n",
      "296/296 [==============================] - 1s 4ms/step - loss: 0.3690 - accuracy: 0.8673 - val_loss: 0.4286 - val_accuracy: 0.8270\n",
      "Epoch 123/200\n",
      "296/296 [==============================] - 1s 4ms/step - loss: 0.3527 - accuracy: 0.8749 - val_loss: 0.3973 - val_accuracy: 0.8555\n",
      "Epoch 124/200\n",
      "296/296 [==============================] - 1s 4ms/step - loss: 0.3535 - accuracy: 0.8703 - val_loss: 0.4146 - val_accuracy: 0.8517\n",
      "Epoch 125/200\n",
      "296/296 [==============================] - 1s 4ms/step - loss: 0.3592 - accuracy: 0.8724 - val_loss: 0.4061 - val_accuracy: 0.8574\n",
      "Epoch 126/200\n",
      "296/296 [==============================] - 1s 4ms/step - loss: 0.3543 - accuracy: 0.8678 - val_loss: 0.4084 - val_accuracy: 0.8555\n",
      "Epoch 127/200\n",
      "296/296 [==============================] - 1s 4ms/step - loss: 0.3496 - accuracy: 0.8703 - val_loss: 0.4096 - val_accuracy: 0.8460\n",
      "Epoch 128/200\n",
      "296/296 [==============================] - 1s 4ms/step - loss: 0.3433 - accuracy: 0.8743 - val_loss: 0.4181 - val_accuracy: 0.8441\n",
      "Epoch 129/200\n",
      "296/296 [==============================] - 1s 4ms/step - loss: 0.3511 - accuracy: 0.8739 - val_loss: 0.3982 - val_accuracy: 0.8422\n",
      "Epoch 130/200\n",
      "296/296 [==============================] - 1s 4ms/step - loss: 0.3436 - accuracy: 0.8756 - val_loss: 0.4380 - val_accuracy: 0.8460\n",
      "Epoch 131/200\n",
      "296/296 [==============================] - 1s 4ms/step - loss: 0.3452 - accuracy: 0.8735 - val_loss: 0.4028 - val_accuracy: 0.8384\n",
      "Epoch 132/200\n",
      "296/296 [==============================] - 1s 4ms/step - loss: 0.3413 - accuracy: 0.8749 - val_loss: 0.4195 - val_accuracy: 0.8403\n",
      "Epoch 133/200\n",
      "296/296 [==============================] - 1s 4ms/step - loss: 0.3433 - accuracy: 0.8790 - val_loss: 0.3942 - val_accuracy: 0.8517\n",
      "Epoch 134/200\n",
      "296/296 [==============================] - 1s 4ms/step - loss: 0.3377 - accuracy: 0.8785 - val_loss: 0.4065 - val_accuracy: 0.8384\n",
      "Epoch 135/200\n",
      "296/296 [==============================] - 1s 4ms/step - loss: 0.3369 - accuracy: 0.8728 - val_loss: 0.4039 - val_accuracy: 0.8498\n",
      "Epoch 136/200\n",
      "296/296 [==============================] - 1s 4ms/step - loss: 0.3310 - accuracy: 0.8769 - val_loss: 0.3924 - val_accuracy: 0.8612\n",
      "Epoch 137/200\n",
      "296/296 [==============================] - 1s 4ms/step - loss: 0.3392 - accuracy: 0.8785 - val_loss: 0.3925 - val_accuracy: 0.8517\n",
      "Epoch 138/200\n",
      "296/296 [==============================] - 1s 4ms/step - loss: 0.3273 - accuracy: 0.8798 - val_loss: 0.4011 - val_accuracy: 0.8574\n",
      "Epoch 139/200\n",
      "296/296 [==============================] - 1s 4ms/step - loss: 0.3248 - accuracy: 0.8811 - val_loss: 0.3720 - val_accuracy: 0.8650\n",
      "Epoch 140/200\n",
      "296/296 [==============================] - 1s 4ms/step - loss: 0.3333 - accuracy: 0.8832 - val_loss: 0.3903 - val_accuracy: 0.8536\n",
      "Epoch 141/200\n",
      "296/296 [==============================] - 1s 4ms/step - loss: 0.3203 - accuracy: 0.8843 - val_loss: 0.4150 - val_accuracy: 0.8517\n",
      "Epoch 142/200\n",
      "296/296 [==============================] - 1s 4ms/step - loss: 0.3266 - accuracy: 0.8802 - val_loss: 0.4069 - val_accuracy: 0.8460\n",
      "Epoch 143/200\n",
      "296/296 [==============================] - 1s 4ms/step - loss: 0.3196 - accuracy: 0.8807 - val_loss: 0.4034 - val_accuracy: 0.8403\n",
      "Epoch 144/200\n",
      "296/296 [==============================] - 1s 4ms/step - loss: 0.3172 - accuracy: 0.8836 - val_loss: 0.3949 - val_accuracy: 0.8574\n",
      "Epoch 145/200\n",
      "296/296 [==============================] - 1s 4ms/step - loss: 0.3219 - accuracy: 0.8807 - val_loss: 0.3910 - val_accuracy: 0.8555\n",
      "Epoch 146/200\n",
      "296/296 [==============================] - 1s 4ms/step - loss: 0.3112 - accuracy: 0.8853 - val_loss: 0.4178 - val_accuracy: 0.8517\n",
      "Epoch 147/200\n",
      "296/296 [==============================] - 1s 4ms/step - loss: 0.3194 - accuracy: 0.8815 - val_loss: 0.3941 - val_accuracy: 0.8574\n",
      "Epoch 148/200\n",
      "296/296 [==============================] - 1s 4ms/step - loss: 0.3189 - accuracy: 0.8840 - val_loss: 0.3942 - val_accuracy: 0.8612\n",
      "Epoch 149/200\n",
      "296/296 [==============================] - 1s 4ms/step - loss: 0.3008 - accuracy: 0.8923 - val_loss: 0.4011 - val_accuracy: 0.8460\n",
      "Epoch 150/200\n",
      "296/296 [==============================] - 1s 4ms/step - loss: 0.3164 - accuracy: 0.8836 - val_loss: 0.3886 - val_accuracy: 0.8574\n",
      "Epoch 151/200\n",
      "296/296 [==============================] - 1s 4ms/step - loss: 0.3130 - accuracy: 0.8851 - val_loss: 0.4021 - val_accuracy: 0.8593\n",
      "Epoch 152/200\n",
      "296/296 [==============================] - 1s 4ms/step - loss: 0.3106 - accuracy: 0.8904 - val_loss: 0.3854 - val_accuracy: 0.8555\n",
      "Epoch 153/200\n",
      "296/296 [==============================] - 1s 4ms/step - loss: 0.3027 - accuracy: 0.8864 - val_loss: 0.4088 - val_accuracy: 0.8346\n",
      "Epoch 154/200\n",
      "296/296 [==============================] - 1s 4ms/step - loss: 0.3066 - accuracy: 0.8927 - val_loss: 0.3937 - val_accuracy: 0.8498\n",
      "Epoch 155/200\n",
      "296/296 [==============================] - 1s 4ms/step - loss: 0.2983 - accuracy: 0.8917 - val_loss: 0.4030 - val_accuracy: 0.8555\n",
      "Epoch 156/200\n",
      "296/296 [==============================] - 1s 4ms/step - loss: 0.2893 - accuracy: 0.8970 - val_loss: 0.3948 - val_accuracy: 0.8517\n",
      "Epoch 157/200\n",
      "296/296 [==============================] - 1s 4ms/step - loss: 0.2821 - accuracy: 0.8965 - val_loss: 0.3857 - val_accuracy: 0.8593\n",
      "Epoch 158/200\n",
      "296/296 [==============================] - 1s 4ms/step - loss: 0.2868 - accuracy: 0.8946 - val_loss: 0.3890 - val_accuracy: 0.8631\n",
      "Epoch 159/200\n",
      "296/296 [==============================] - 1s 4ms/step - loss: 0.2890 - accuracy: 0.8910 - val_loss: 0.3844 - val_accuracy: 0.8593\n",
      "Epoch 160/200\n",
      "296/296 [==============================] - 1s 4ms/step - loss: 0.2877 - accuracy: 0.8961 - val_loss: 0.3735 - val_accuracy: 0.8631\n",
      "Epoch 161/200\n",
      "296/296 [==============================] - 1s 4ms/step - loss: 0.2903 - accuracy: 0.8959 - val_loss: 0.3760 - val_accuracy: 0.8631\n",
      "Epoch 162/200\n",
      "296/296 [==============================] - 1s 4ms/step - loss: 0.2833 - accuracy: 0.8970 - val_loss: 0.3904 - val_accuracy: 0.8479\n",
      "Epoch 163/200\n",
      "296/296 [==============================] - 1s 4ms/step - loss: 0.2966 - accuracy: 0.8910 - val_loss: 0.3790 - val_accuracy: 0.8612\n",
      "Epoch 164/200\n",
      "296/296 [==============================] - 1s 4ms/step - loss: 0.2839 - accuracy: 0.8965 - val_loss: 0.3908 - val_accuracy: 0.8612\n",
      "Epoch 165/200\n",
      "296/296 [==============================] - 1s 4ms/step - loss: 0.2800 - accuracy: 0.9008 - val_loss: 0.3748 - val_accuracy: 0.8707\n",
      "Epoch 166/200\n",
      "296/296 [==============================] - 1s 4ms/step - loss: 0.2882 - accuracy: 0.8953 - val_loss: 0.3944 - val_accuracy: 0.8612\n",
      "Epoch 167/200\n",
      "296/296 [==============================] - 1s 4ms/step - loss: 0.2793 - accuracy: 0.9031 - val_loss: 0.3957 - val_accuracy: 0.8555\n",
      "Epoch 168/200\n",
      "296/296 [==============================] - 1s 4ms/step - loss: 0.2827 - accuracy: 0.8963 - val_loss: 0.3832 - val_accuracy: 0.8593\n",
      "Epoch 169/200\n",
      "296/296 [==============================] - 1s 4ms/step - loss: 0.2923 - accuracy: 0.8978 - val_loss: 0.3981 - val_accuracy: 0.8593\n",
      "Epoch 170/200\n",
      "296/296 [==============================] - 1s 4ms/step - loss: 0.2829 - accuracy: 0.8967 - val_loss: 0.3739 - val_accuracy: 0.8631\n",
      "Epoch 171/200\n"
     ]
    },
    {
     "name": "stdout",
     "output_type": "stream",
     "text": [
      "296/296 [==============================] - 1s 4ms/step - loss: 0.2767 - accuracy: 0.9012 - val_loss: 0.3932 - val_accuracy: 0.8384\n",
      "Epoch 172/200\n",
      "296/296 [==============================] - 1s 4ms/step - loss: 0.2795 - accuracy: 0.8993 - val_loss: 0.3666 - val_accuracy: 0.8574\n",
      "Epoch 173/200\n",
      "296/296 [==============================] - 1s 4ms/step - loss: 0.2718 - accuracy: 0.9012 - val_loss: 0.3776 - val_accuracy: 0.8441\n",
      "Epoch 174/200\n",
      "296/296 [==============================] - 1s 4ms/step - loss: 0.2795 - accuracy: 0.9001 - val_loss: 0.3731 - val_accuracy: 0.8574\n",
      "Epoch 175/200\n",
      "296/296 [==============================] - 1s 4ms/step - loss: 0.2725 - accuracy: 0.9020 - val_loss: 0.3962 - val_accuracy: 0.8517\n",
      "Epoch 176/200\n",
      "296/296 [==============================] - 1s 4ms/step - loss: 0.2748 - accuracy: 0.8995 - val_loss: 0.3865 - val_accuracy: 0.8593\n",
      "Epoch 177/200\n",
      "296/296 [==============================] - 1s 4ms/step - loss: 0.2709 - accuracy: 0.9058 - val_loss: 0.3899 - val_accuracy: 0.8631\n",
      "Epoch 178/200\n",
      "296/296 [==============================] - 1s 4ms/step - loss: 0.2586 - accuracy: 0.9067 - val_loss: 0.4067 - val_accuracy: 0.8498\n",
      "Epoch 179/200\n",
      "296/296 [==============================] - 1s 4ms/step - loss: 0.2644 - accuracy: 0.9058 - val_loss: 0.3930 - val_accuracy: 0.8593\n",
      "Epoch 180/200\n",
      "296/296 [==============================] - 1s 4ms/step - loss: 0.2608 - accuracy: 0.9065 - val_loss: 0.3706 - val_accuracy: 0.8631\n",
      "Epoch 181/200\n",
      "296/296 [==============================] - 1s 4ms/step - loss: 0.2727 - accuracy: 0.9063 - val_loss: 0.3564 - val_accuracy: 0.8688\n",
      "Epoch 182/200\n",
      "296/296 [==============================] - 1s 4ms/step - loss: 0.2650 - accuracy: 0.9061 - val_loss: 0.3732 - val_accuracy: 0.8574\n",
      "Epoch 183/200\n",
      "296/296 [==============================] - 1s 4ms/step - loss: 0.2618 - accuracy: 0.9080 - val_loss: 0.3659 - val_accuracy: 0.8574\n",
      "Epoch 184/200\n",
      "296/296 [==============================] - 1s 4ms/step - loss: 0.2488 - accuracy: 0.9052 - val_loss: 0.3854 - val_accuracy: 0.8441\n",
      "Epoch 185/200\n",
      "296/296 [==============================] - 1s 4ms/step - loss: 0.2595 - accuracy: 0.9046 - val_loss: 0.3754 - val_accuracy: 0.8555\n",
      "Epoch 186/200\n",
      "296/296 [==============================] - 1s 4ms/step - loss: 0.2546 - accuracy: 0.9069 - val_loss: 0.3664 - val_accuracy: 0.8612\n",
      "Epoch 187/200\n",
      "296/296 [==============================] - 1s 4ms/step - loss: 0.2609 - accuracy: 0.9046 - val_loss: 0.3624 - val_accuracy: 0.8631\n",
      "Epoch 188/200\n",
      "296/296 [==============================] - 1s 4ms/step - loss: 0.2576 - accuracy: 0.9052 - val_loss: 0.3707 - val_accuracy: 0.8688\n",
      "Epoch 189/200\n",
      "296/296 [==============================] - 1s 4ms/step - loss: 0.2560 - accuracy: 0.9048 - val_loss: 0.3790 - val_accuracy: 0.8574\n",
      "Epoch 190/200\n",
      "296/296 [==============================] - 1s 4ms/step - loss: 0.2482 - accuracy: 0.9090 - val_loss: 0.4019 - val_accuracy: 0.8612\n",
      "Epoch 191/200\n",
      "296/296 [==============================] - 1s 4ms/step - loss: 0.2582 - accuracy: 0.9027 - val_loss: 0.3773 - val_accuracy: 0.8650\n",
      "Epoch 192/200\n",
      "296/296 [==============================] - 1s 4ms/step - loss: 0.2469 - accuracy: 0.9120 - val_loss: 0.3941 - val_accuracy: 0.8460\n",
      "Epoch 193/200\n",
      "296/296 [==============================] - 1s 4ms/step - loss: 0.2467 - accuracy: 0.9099 - val_loss: 0.3790 - val_accuracy: 0.8536\n",
      "Epoch 194/200\n",
      "296/296 [==============================] - 1s 4ms/step - loss: 0.2384 - accuracy: 0.9177 - val_loss: 0.3810 - val_accuracy: 0.8517\n",
      "Epoch 195/200\n",
      "296/296 [==============================] - 1s 4ms/step - loss: 0.2387 - accuracy: 0.9143 - val_loss: 0.3641 - val_accuracy: 0.8707\n",
      "Epoch 196/200\n",
      "296/296 [==============================] - 1s 4ms/step - loss: 0.2419 - accuracy: 0.9103 - val_loss: 0.3793 - val_accuracy: 0.8593\n",
      "Epoch 197/200\n",
      "296/296 [==============================] - 1s 4ms/step - loss: 0.2469 - accuracy: 0.9122 - val_loss: 0.3671 - val_accuracy: 0.8650\n",
      "Epoch 198/200\n",
      "296/296 [==============================] - 1s 4ms/step - loss: 0.2401 - accuracy: 0.9124 - val_loss: 0.3674 - val_accuracy: 0.8593\n",
      "Epoch 199/200\n",
      "296/296 [==============================] - 1s 4ms/step - loss: 0.2422 - accuracy: 0.9086 - val_loss: 0.3818 - val_accuracy: 0.8593\n",
      "Epoch 200/200\n",
      "296/296 [==============================] - 1s 4ms/step - loss: 0.2377 - accuracy: 0.9166 - val_loss: 0.3549 - val_accuracy: 0.8612\n"
     ]
    }
   ],
   "source": [
    "cnnhistory=model.fit(x_traincnn, y_train, batch_size=16, epochs=200, validation_data=(x_testcnn, y_test))"
   ]
  },
  {
   "cell_type": "code",
   "execution_count": 11,
   "metadata": {
    "colab": {
     "base_uri": "https://localhost:8080/",
     "height": 295
    },
    "id": "r2GQgTSACH5W",
    "outputId": "fb646043-0137-48ea-cdd4-f37e50bc2c1a"
   },
   "outputs": [
    {
     "data": {
      "image/png": "[encoded data removed]",
      "text/plain": [
       "<Figure size 432x288 with 1 Axes>"
      ]
     },
     "metadata": {
      "needs_background": "light"
     },
     "output_type": "display_data"
    }
   ],
   "source": [
    "plt.plot(cnnhistory.history['loss'])\n",
    "plt.plot(cnnhistory.history['val_loss'])\n",
    "plt.title('model loss')\n",
    "plt.ylabel('loss')\n",
    "plt.xlabel('epoch')\n",
    "plt.legend(['train', 'test'], loc='upper left')\n",
    "plt.show()"
   ]
  },
  {
   "cell_type": "code",
   "execution_count": 12,
   "metadata": {
    "colab": {
     "base_uri": "https://localhost:8080/",
     "height": 295
    },
    "id": "n9EBIyTxCRLV",
    "outputId": "38800a84-b1d1-42c5-b101-523b58ae5e08"
   },
   "outputs": [
    {
     "data": {
      "image/png": "[encoded data removed]",
      "text/plain": [
       "<Figure size 432x288 with 1 Axes>"
      ]
     },
     "metadata": {
      "needs_background": "light"
     },
     "output_type": "display_data"
    }
   ],
   "source": [
    "plt.plot(cnnhistory.history['accuracy'])\n",
    "plt.plot(cnnhistory.history['val_accuracy'])\n",
    "plt.title('model accuracy')\n",
    "plt.ylabel('accuracy')\n",
    "plt.xlabel('epoch')\n",
    "plt.legend(['train', 'test'], loc='upper left')\n",
    "plt.show()"
   ]
  },
  {
   "cell_type": "code",
   "execution_count": null,
   "metadata": {},
   "outputs": [],
   "source": [
    "###TEST DATA PREPARATION\n",
    "\n",
    "\n",
    "import time\n",
    "import os\n",
    "path = 'Emo_test_mfcc/'\n",
    "lst = []\n",
    "\n",
    "start_time = time.time()\n",
    "\n",
    "for subdir, dirs, files in os.walk(path):\n",
    "    for file in files:\n",
    "        try:\n",
    "            #Load librosa array, obtain mfcss, store the file and the mcss information in a new array\n",
    "            X, sample_rate = librosa.load(os.path.join(subdir,file), res_type='kaiser_fast')\n",
    "            mfccs = np.mean(librosa.feature.mfcc(y=X, sr=sample_rate, n_mfcc=40).T,axis=0) \n",
    "            # The instruction below converts the labels (from 1 to 8) to a series from 0 to 7\n",
    "            # This is because our predictor needs to start from 0 otherwise it will try to predict also 0.\n",
    "            file = int(file[7:8]) - 1 \n",
    "            arr = mfccs, file\n",
    "            lst.append(arr)\n",
    "            # If the file is not valid, skip it\n",
    "        except ValueError:\n",
    "            continue\n",
    "\n",
    "print(\"--- Data loaded. Loading time: %s seconds ---\" % (time.time() - start_time))"
   ]
  },
  {
   "cell_type": "code",
   "execution_count": null,
   "metadata": {},
   "outputs": [],
   "source": [
    "len(lst)"
   ]
  },
  {
   "cell_type": "code",
   "execution_count": null,
   "metadata": {},
   "outputs": [],
   "source": [
    "X, y = zip(*lst)\n",
    "import numpy as np\n",
    "X = np.asarray(X)\n",
    "y = np.asarray(y)\n",
    "X.shape, y.shape\n"
   ]
  },
  {
   "cell_type": "code",
   "execution_count": null,
   "metadata": {},
   "outputs": [],
   "source": [
    "\n",
    "X_name = 'X_test.joblib'\n",
    "y_name = 'y_test.joblib'\n",
    "save_dir = 'Features_joblib'\n",
    "\n",
    "savedX = joblib.dump(X, os.path.join(save_dir, X_name))\n",
    "savedy = joblib.dump(y, os.path.join(save_dir, y_name))"
   ]
  },
  {
   "cell_type": "code",
   "execution_count": 13,
   "metadata": {},
   "outputs": [],
   "source": [
    "X = joblib.load('Features_joblib/X_test_mfcc.joblib')\n",
    "y = joblib.load('Features_joblib/y_test_mfcc.joblib')"
   ]
  },
  {
   "cell_type": "code",
   "execution_count": null,
   "metadata": {},
   "outputs": [],
   "source": [
    "X.shape"
   ]
  },
  {
   "cell_type": "code",
   "execution_count": 14,
   "metadata": {},
   "outputs": [],
   "source": [
    "x_test = np.expand_dims(X, axis=2)"
   ]
  },
  {
   "cell_type": "code",
   "execution_count": 15,
   "metadata": {},
   "outputs": [
    {
     "data": {
      "text/plain": [
       "(454, 40, 1)"
      ]
     },
     "execution_count": 15,
     "metadata": {},
     "output_type": "execute_result"
    }
   ],
   "source": [
    "x_test.shape"
   ]
  },
  {
   "cell_type": "code",
   "execution_count": 16,
   "metadata": {
    "colab": {
     "base_uri": "https://localhost:8080/"
    },
    "id": "WTV2h5Y2CU61",
    "outputId": "b271b0cc-0b9a-47ba-ce98-c3d554e6b477"
   },
   "outputs": [
    {
     "name": "stdout",
     "output_type": "stream",
     "text": [
      "WARNING:tensorflow:From <ipython-input-16-e2f99e018d6f>:1: Sequential.predict_classes (from tensorflow.python.keras.engine.sequential) is deprecated and will be removed after 2021-01-01.\n",
      "Instructions for updating:\n",
      "Please use instead:* `np.argmax(model.predict(x), axis=-1)`,   if your model does multi-class classification   (e.g. if it uses a `softmax` last-layer activation).* `(model.predict(x) > 0.5).astype(\"int32\")`,   if your model does binary classification   (e.g. if it uses a `sigmoid` last-layer activation).\n"
     ]
    },
    {
     "data": {
      "text/plain": [
       "array([3, 6, 6, 6, 6, 5, 3, 5, 4, 3, 5, 6, 5, 6, 3, 4, 6, 6, 3, 3, 6, 6,\n",
       "       6, 6, 4, 3, 4, 3, 6, 6, 5, 4, 5, 5, 3, 6, 6, 3, 5, 6, 4, 6, 6, 3,\n",
       "       6, 3, 3, 6, 4, 3, 6, 6, 6, 3, 6, 3, 6, 6, 3, 6, 5, 4, 4, 6, 4, 3,\n",
       "       6, 4, 6, 4, 6, 6, 5, 6, 4, 3, 5, 6, 6, 6, 5, 5, 4, 3, 3, 4, 4, 4,\n",
       "       6, 3, 5, 4, 6, 3, 4, 5, 3, 3, 5, 4, 6, 3, 3, 3, 4, 6, 6, 3, 5, 6,\n",
       "       3, 3, 6, 4, 4, 6, 6, 5, 6, 5, 3, 4, 5, 6, 4, 3, 3, 6, 4, 3, 3, 3,\n",
       "       3, 3, 5, 6, 6, 6, 3, 3, 4, 6, 4, 6, 6, 6, 6, 4, 3, 6, 5, 6, 6, 6,\n",
       "       6, 6, 3, 6, 5, 3, 3, 6, 3, 6, 6, 5, 5, 3, 3, 6, 3, 5, 4, 4, 6, 6,\n",
       "       5, 4, 6, 3, 6, 4, 6, 6, 3, 6, 5, 3, 3, 6, 6, 3, 3, 5, 6, 4, 3, 3,\n",
       "       4, 6, 5, 3, 3, 5, 6, 6, 6, 5, 3, 6, 6, 5, 3, 6, 6, 4, 6, 3, 4, 4,\n",
       "       5, 6, 6, 5, 3, 6, 5, 6, 6, 4, 6, 3, 4, 3, 5, 6, 6, 6, 6, 6, 3, 6,\n",
       "       5, 3, 6, 6, 5, 3, 3, 4, 4, 3, 6, 6, 6, 6, 6, 3, 6, 3, 3, 3, 3, 3,\n",
       "       3, 6, 6, 3, 6, 6, 6, 3, 3, 4, 6, 3, 6, 4, 6, 4, 5, 6, 6, 6, 3, 6,\n",
       "       3, 6, 6, 4, 6, 4, 5, 6, 6, 3, 6, 4, 3, 3, 3, 6, 3, 4, 3, 4, 6, 6,\n",
       "       6, 6, 4, 6, 6, 3, 6, 6, 3, 3, 6, 3, 3, 6, 4, 6, 3, 4, 3, 5, 6, 6,\n",
       "       4, 5, 3, 4, 6, 3, 6, 4, 3, 3, 6, 4, 6, 6, 6, 3, 3, 6, 3, 6, 6, 2,\n",
       "       5, 6, 5, 6, 5, 4, 3, 6, 4, 6, 4, 6, 3, 3, 4, 3, 4, 4, 3, 6, 5, 3,\n",
       "       4, 4, 3, 5, 4, 3, 6, 4, 6, 3, 5, 3, 5, 4, 5, 6, 6, 4, 3, 6, 4, 3,\n",
       "       4, 6, 5, 3, 6, 3, 5, 3, 6, 3, 3, 3, 6, 3, 6, 4, 5, 6, 3, 4, 6, 6,\n",
       "       3, 3, 3, 3, 3, 6, 6, 4, 4, 5, 3, 5, 3, 4, 3, 5, 3, 6, 4, 6, 5, 3,\n",
       "       4, 3, 4, 5, 3, 4, 3, 6, 3, 6, 6, 4, 5, 3], dtype=int64)"
      ]
     },
     "execution_count": 16,
     "metadata": {},
     "output_type": "execute_result"
    }
   ],
   "source": [
    "predictions = model.predict_classes(x_test)\n",
    "predictions"
   ]
  },
  {
   "cell_type": "code",
   "execution_count": 17,
   "metadata": {
    "colab": {
     "base_uri": "https://localhost:8080/"
    },
    "id": "GtlR0Ki3ChDk",
    "outputId": "7a42225c-33ea-42ca-f0d0-0074bc933d94"
   },
   "outputs": [
    {
     "data": {
      "text/plain": [
       "array([0, 3, 5, 3, 4, 4, 2, 1, 3, 2, 4, 0, 4, 5, 5, 3, 5, 3, 1, 1, 5, 1,\n",
       "       1, 1, 4, 0, 3, 2, 5, 0, 3, 3, 4, 4, 2, 4, 4, 0, 4, 3, 3, 4, 5, 2,\n",
       "       3, 2, 0, 3, 3, 2, 3, 5, 5, 2, 3, 2, 5, 1, 5, 5, 3, 3, 1, 3, 3, 5,\n",
       "       0, 1, 1, 3, 3, 3, 1, 4, 3, 5, 3, 3, 3, 0, 4, 3, 3, 5, 0, 3, 3, 4,\n",
       "       5, 0, 4, 3, 3, 0, 3, 3, 2, 5, 5, 3, 5, 0, 2, 2, 3, 5, 3, 2, 3, 3,\n",
       "       0, 2, 0, 3, 4, 1, 1, 4, 3, 1, 0, 3, 3, 4, 3, 0, 0, 1, 3, 0, 2, 2,\n",
       "       2, 4, 3, 3, 1, 5, 0, 2, 3, 5, 3, 5, 3, 3, 4, 3, 0, 0, 1, 5, 1, 4,\n",
       "       4, 0, 4, 3, 1, 2, 2, 3, 2, 1, 1, 4, 4, 2, 0, 4, 2, 3, 3, 3, 3, 4,\n",
       "       1, 3, 4, 0, 3, 1, 0, 1, 2, 5, 4, 2, 0, 1, 3, 2, 0, 1, 3, 4, 0, 2,\n",
       "       3, 1, 3, 0, 2, 1, 4, 3, 4, 4, 0, 1, 5, 4, 2, 5, 4, 3, 0, 2, 1, 3,\n",
       "       1, 3, 4, 1, 2, 4, 1, 0, 3, 3, 0, 0, 1, 2, 1, 5, 3, 4, 1, 0, 2, 1,\n",
       "       1, 0, 4, 3, 1, 0, 0, 3, 4, 2, 1, 1, 5, 4, 0, 2, 5, 4, 2, 0, 2, 0,\n",
       "       2, 0, 4, 2, 3, 0, 0, 5, 2, 3, 3, 0, 1, 3, 5, 3, 3, 3, 5, 4, 0, 5,\n",
       "       0, 4, 4, 1, 3, 3, 3, 3, 1, 2, 3, 3, 2, 0, 0, 4, 2, 3, 0, 3, 3, 5,\n",
       "       3, 5, 3, 1, 0, 0, 0, 3, 5, 0, 1, 2, 2, 4, 3, 3, 0, 3, 2, 4, 0, 3,\n",
       "       3, 1, 2, 3, 1, 0, 1, 4, 0, 4, 1, 1, 3, 4, 1, 2, 0, 5, 2, 1, 3, 3,\n",
       "       4, 3, 5, 1, 4, 3, 0, 1, 3, 0, 3, 0, 1, 2, 3, 5, 3, 3, 0, 5, 1, 4,\n",
       "       3, 3, 0, 3, 4, 2, 4, 3, 5, 2, 1, 2, 4, 3, 1, 1, 0, 5, 0, 1, 3, 0,\n",
       "       3, 3, 4, 0, 1, 2, 1, 2, 4, 2, 2, 0, 4, 0, 1, 3, 1, 1, 2, 1, 3, 4,\n",
       "       0, 2, 0, 0, 0, 0, 5, 3, 3, 4, 5, 4, 0, 3, 0, 1, 2, 5, 3, 4, 1, 2,\n",
       "       3, 0, 3, 4, 2, 3, 0, 4, 4, 3, 1, 3, 1, 4])"
      ]
     },
     "execution_count": 17,
     "metadata": {},
     "output_type": "execute_result"
    }
   ],
   "source": [
    "new_Ytest = y.astype(int)\n",
    "new_Ytest"
   ]
  },
  {
   "cell_type": "code",
   "execution_count": 18,
   "metadata": {
    "colab": {
     "base_uri": "https://localhost:8080/"
    },
    "id": "Vjy3YddGCpej",
    "outputId": "5cef08c8-3fae-490a-9768-77eaf0066a73"
   },
   "outputs": [
    {
     "name": "stdout",
     "output_type": "stream",
     "text": [
      "              precision    recall  f1-score   support\n",
      "\n",
      "           0       0.00      0.00      0.00        79\n",
      "           1       0.00      0.00      0.00        71\n",
      "           2       0.00      0.00      0.00        62\n",
      "           3       0.00      0.00      0.00       127\n",
      "           4       0.09      0.10      0.09        69\n",
      "           5       0.03      0.04      0.04        46\n",
      "           6       0.00      0.00      0.00         0\n",
      "\n",
      "    accuracy                           0.02       454\n",
      "   macro avg       0.02      0.02      0.02       454\n",
      "weighted avg       0.02      0.02      0.02       454\n",
      "\n"
     ]
    },
    {
     "name": "stderr",
     "output_type": "stream",
     "text": [
      "C:\\Users\\user\\Anaconda3\\envs\\tensorflow_env\\lib\\site-packages\\sklearn\\metrics\\_classification.py:1245: UndefinedMetricWarning: Precision and F-score are ill-defined and being set to 0.0 in labels with no predicted samples. Use `zero_division` parameter to control this behavior.\n",
      "  _warn_prf(average, modifier, msg_start, len(result))\n",
      "C:\\Users\\user\\Anaconda3\\envs\\tensorflow_env\\lib\\site-packages\\sklearn\\metrics\\_classification.py:1245: UndefinedMetricWarning: Recall and F-score are ill-defined and being set to 0.0 in labels with no true samples. Use `zero_division` parameter to control this behavior.\n",
      "  _warn_prf(average, modifier, msg_start, len(result))\n",
      "C:\\Users\\user\\Anaconda3\\envs\\tensorflow_env\\lib\\site-packages\\sklearn\\metrics\\_classification.py:1245: UndefinedMetricWarning: Precision and F-score are ill-defined and being set to 0.0 in labels with no predicted samples. Use `zero_division` parameter to control this behavior.\n",
      "  _warn_prf(average, modifier, msg_start, len(result))\n",
      "C:\\Users\\user\\Anaconda3\\envs\\tensorflow_env\\lib\\site-packages\\sklearn\\metrics\\_classification.py:1245: UndefinedMetricWarning: Recall and F-score are ill-defined and being set to 0.0 in labels with no true samples. Use `zero_division` parameter to control this behavior.\n",
      "  _warn_prf(average, modifier, msg_start, len(result))\n",
      "C:\\Users\\user\\Anaconda3\\envs\\tensorflow_env\\lib\\site-packages\\sklearn\\metrics\\_classification.py:1245: UndefinedMetricWarning: Precision and F-score are ill-defined and being set to 0.0 in labels with no predicted samples. Use `zero_division` parameter to control this behavior.\n",
      "  _warn_prf(average, modifier, msg_start, len(result))\n",
      "C:\\Users\\user\\Anaconda3\\envs\\tensorflow_env\\lib\\site-packages\\sklearn\\metrics\\_classification.py:1245: UndefinedMetricWarning: Recall and F-score are ill-defined and being set to 0.0 in labels with no true samples. Use `zero_division` parameter to control this behavior.\n",
      "  _warn_prf(average, modifier, msg_start, len(result))\n"
     ]
    }
   ],
   "source": [
    "from sklearn.metrics import classification_report\n",
    "report = classification_report(new_Ytest, predictions)\n",
    "print(report)"
   ]
  },
  {
   "cell_type": "code",
   "execution_count": 19,
   "metadata": {
    "colab": {
     "base_uri": "https://localhost:8080/"
    },
    "id": "jCeySknFCzvr",
    "outputId": "f397f807-59cd-47b6-92f0-2dc6e36eab5a"
   },
   "outputs": [
    {
     "name": "stdout",
     "output_type": "stream",
     "text": [
      "[[ 0  0  0 56  0  0 23]\n",
      " [ 0  0  0  3  8 23 37]\n",
      " [ 0  0  0 62  0  0  0]\n",
      " [ 0  0  1  0 65 13 48]\n",
      " [ 0  0  0  7  7 22 33]\n",
      " [ 0  0  0 10  1  2 33]\n",
      " [ 0  0  0  0  0  0  0]]\n"
     ]
    }
   ],
   "source": [
    "from sklearn.metrics import confusion_matrix\n",
    "matrix = confusion_matrix(new_Ytest, predictions)\n",
    "print (matrix)\n",
    "\n",
    "# 0 = neutral, 1 = happy, 2 = sad, 3 = angry, 4 = fearful, 5 = disgust"
   ]
  },
  {
   "cell_type": "code",
   "execution_count": 20,
   "metadata": {
    "colab": {
     "base_uri": "https://localhost:8080/"
    },
    "id": "J_r4wC0Feo6P",
    "outputId": "a5e7b05b-6521-4a30-c34e-ee1834d90fc5"
   },
   "outputs": [
    {
     "name": "stdout",
     "output_type": "stream",
     "text": [
      "15/15 [==============================] - 0s 2ms/step - loss: 22.9947 - accuracy: 0.0198\n",
      "Model accuracy:  1.98%\n"
     ]
    }
   ],
   "source": [
    "\n",
    "loss, acc = model.evaluate(x_test, y)\n",
    "print(\"Model accuracy: {:5.2f}%\".format(100*acc))\n"
   ]
  }
 ],
 "metadata": {
  "colab": {
   "name": "rav_tess_cnn_model_1.ipynb",
   "provenance": []
  },
  "kernelspec": {
   "display_name": "Python 3",
   "language": "python",
   "name": "python3"
  },
  "language_info": {
   "codemirror_mode": {
    "name": "ipython",
    "version": 3
   },
   "file_extension": ".py",
   "mimetype": "text/x-python",
   "name": "python",
   "nbconvert_exporter": "python",
   "pygments_lexer": "ipython3",
   "version": "3.8.5"
  }
 },
 "nbformat": 4,
 "nbformat_minor": 1
}
